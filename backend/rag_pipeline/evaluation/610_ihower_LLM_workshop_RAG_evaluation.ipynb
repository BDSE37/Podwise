{
 "cells": [
  {
   "cell_type": "markdown",
   "metadata": {
    "id": "AMHa-IJtZiln"
   },
   "source": [
    "這份 Notebook 進行 RAG 評估，包括合成評估資料\n"
   ]
  },
  {
   "cell_type": "code",
   "execution_count": null,
   "metadata": {
    "id": "xCOQuMBLsONg"
   },
   "outputs": [],
   "source": [
    "from google.colab import userdata\n",
    "openai_api_key = userdata.get('openai_api_key')"
   ]
  },
  {
   "cell_type": "code",
   "execution_count": null,
   "metadata": {
    "colab": {
     "base_uri": "https://localhost:8080/"
    },
    "executionInfo": {
     "elapsed": 11856,
     "status": "ok",
     "timestamp": 1745937799283,
     "user": {
      "displayName": "張文鈿（ihower）",
      "userId": "16942569988483049654"
     },
     "user_tz": -480
    },
    "id": "yL3IqazqU9fG",
    "outputId": "098917f9-e84d-4d32-f0ac-8cf5b6fa1102"
   },
   "outputs": [
    {
     "name": "stdout",
     "output_type": "stream",
     "text": [
      "Requirement already satisfied: openai in /usr/local/lib/python3.11/dist-packages (1.76.0)\n",
      "Requirement already satisfied: anyio<5,>=3.5.0 in /usr/local/lib/python3.11/dist-packages (from openai) (4.9.0)\n",
      "Requirement already satisfied: distro<2,>=1.7.0 in /usr/local/lib/python3.11/dist-packages (from openai) (1.9.0)\n",
      "Requirement already satisfied: httpx<1,>=0.23.0 in /usr/local/lib/python3.11/dist-packages (from openai) (0.28.1)\n",
      "Requirement already satisfied: jiter<1,>=0.4.0 in /usr/local/lib/python3.11/dist-packages (from openai) (0.9.0)\n",
      "Requirement already satisfied: pydantic<3,>=1.9.0 in /usr/local/lib/python3.11/dist-packages (from openai) (2.11.3)\n",
      "Requirement already satisfied: sniffio in /usr/local/lib/python3.11/dist-packages (from openai) (1.3.1)\n",
      "Requirement already satisfied: tqdm>4 in /usr/local/lib/python3.11/dist-packages (from openai) (4.67.1)\n",
      "Requirement already satisfied: typing-extensions<5,>=4.11 in /usr/local/lib/python3.11/dist-packages (from openai) (4.13.2)\n",
      "Requirement already satisfied: idna>=2.8 in /usr/local/lib/python3.11/dist-packages (from anyio<5,>=3.5.0->openai) (3.10)\n",
      "Requirement already satisfied: certifi in /usr/local/lib/python3.11/dist-packages (from httpx<1,>=0.23.0->openai) (2025.1.31)\n",
      "Requirement already satisfied: httpcore==1.* in /usr/local/lib/python3.11/dist-packages (from httpx<1,>=0.23.0->openai) (1.0.9)\n",
      "Requirement already satisfied: h11>=0.16 in /usr/local/lib/python3.11/dist-packages (from httpcore==1.*->httpx<1,>=0.23.0->openai) (0.16.0)\n",
      "Requirement already satisfied: annotated-types>=0.6.0 in /usr/local/lib/python3.11/dist-packages (from pydantic<3,>=1.9.0->openai) (0.7.0)\n",
      "Requirement already satisfied: pydantic-core==2.33.1 in /usr/local/lib/python3.11/dist-packages (from pydantic<3,>=1.9.0->openai) (2.33.1)\n",
      "Requirement already satisfied: typing-inspection>=0.4.0 in /usr/local/lib/python3.11/dist-packages (from pydantic<3,>=1.9.0->openai) (0.4.0)\n"
     ]
    }
   ],
   "source": [
    "!pip install openai"
   ]
  },
  {
   "cell_type": "code",
   "execution_count": null,
   "metadata": {
    "colab": {
     "base_uri": "https://localhost:8080/"
    },
    "executionInfo": {
     "elapsed": 13867,
     "status": "ok",
     "timestamp": 1745937813152,
     "user": {
      "displayName": "張文鈿（ihower）",
      "userId": "16942569988483049654"
     },
     "user_tz": -480
    },
    "id": "h1_bEqY-7utc",
    "outputId": "85bc20ce-d731-42c6-ecb0-349bc54a65c0"
   },
   "outputs": [
    {
     "name": "stdout",
     "output_type": "stream",
     "text": [
      "Collecting braintrust\n",
      "  Downloading braintrust-0.0.201-py3-none-any.whl.metadata (3.4 kB)\n",
      "Collecting autoevals\n",
      "  Downloading autoevals-0.0.127-py3-none-any.whl.metadata (17 kB)\n",
      "Requirement already satisfied: GitPython in /usr/local/lib/python3.11/dist-packages (from braintrust) (3.1.44)\n",
      "Requirement already satisfied: requests in /usr/local/lib/python3.11/dist-packages (from braintrust) (2.32.3)\n",
      "Collecting chevron (from braintrust)\n",
      "  Downloading chevron-0.14.0-py3-none-any.whl.metadata (4.9 kB)\n",
      "Collecting braintrust_core==0.0.58 (from braintrust)\n",
      "  Downloading braintrust_core-0.0.58-py3-none-any.whl.metadata (669 bytes)\n",
      "Requirement already satisfied: tqdm in /usr/local/lib/python3.11/dist-packages (from braintrust) (4.67.1)\n",
      "Collecting exceptiongroup>=1.2.0 (from braintrust)\n",
      "  Downloading exceptiongroup-1.2.2-py3-none-any.whl.metadata (6.6 kB)\n",
      "Collecting python-dotenv (from braintrust)\n",
      "  Downloading python_dotenv-1.1.0-py3-none-any.whl.metadata (24 kB)\n",
      "Collecting sseclient-py (from braintrust)\n",
      "  Downloading sseclient_py-1.8.0-py2.py3-none-any.whl.metadata (2.0 kB)\n",
      "Requirement already satisfied: python-slugify in /usr/local/lib/python3.11/dist-packages (from braintrust) (8.0.4)\n",
      "Requirement already satisfied: typing_extensions>=4.1.0 in /usr/local/lib/python3.11/dist-packages (from braintrust) (4.13.2)\n",
      "Collecting polyleven (from autoevals)\n",
      "  Downloading polyleven-0.9.0-cp311-cp311-manylinux_2_5_x86_64.manylinux1_x86_64.manylinux_2_17_x86_64.manylinux2014_x86_64.whl.metadata (4.3 kB)\n",
      "Requirement already satisfied: pyyaml in /usr/local/lib/python3.11/dist-packages (from autoevals) (6.0.2)\n",
      "Requirement already satisfied: jsonschema in /usr/local/lib/python3.11/dist-packages (from autoevals) (4.23.0)\n",
      "Requirement already satisfied: gitdb<5,>=4.0.1 in /usr/local/lib/python3.11/dist-packages (from GitPython->braintrust) (4.0.12)\n",
      "Requirement already satisfied: attrs>=22.2.0 in /usr/local/lib/python3.11/dist-packages (from jsonschema->autoevals) (25.3.0)\n",
      "Requirement already satisfied: jsonschema-specifications>=2023.03.6 in /usr/local/lib/python3.11/dist-packages (from jsonschema->autoevals) (2025.4.1)\n",
      "Requirement already satisfied: referencing>=0.28.4 in /usr/local/lib/python3.11/dist-packages (from jsonschema->autoevals) (0.36.2)\n",
      "Requirement already satisfied: rpds-py>=0.7.1 in /usr/local/lib/python3.11/dist-packages (from jsonschema->autoevals) (0.24.0)\n",
      "Requirement already satisfied: text-unidecode>=1.3 in /usr/local/lib/python3.11/dist-packages (from python-slugify->braintrust) (1.3)\n",
      "Requirement already satisfied: charset-normalizer<4,>=2 in /usr/local/lib/python3.11/dist-packages (from requests->braintrust) (3.4.1)\n",
      "Requirement already satisfied: idna<4,>=2.5 in /usr/local/lib/python3.11/dist-packages (from requests->braintrust) (3.10)\n",
      "Requirement already satisfied: urllib3<3,>=1.21.1 in /usr/local/lib/python3.11/dist-packages (from requests->braintrust) (2.4.0)\n",
      "Requirement already satisfied: certifi>=2017.4.17 in /usr/local/lib/python3.11/dist-packages (from requests->braintrust) (2025.1.31)\n",
      "Requirement already satisfied: smmap<6,>=3.0.1 in /usr/local/lib/python3.11/dist-packages (from gitdb<5,>=4.0.1->GitPython->braintrust) (5.0.2)\n",
      "Downloading braintrust-0.0.201-py3-none-any.whl (133 kB)\n",
      "\u001b[2K   \u001b[90m━━━━━━━━━━━━━━━━━━━━━━━━━━━━━━━━━━━━━━━━\u001b[0m \u001b[32m133.1/133.1 kB\u001b[0m \u001b[31m3.1 MB/s\u001b[0m eta \u001b[36m0:00:00\u001b[0m\n",
      "\u001b[?25hDownloading braintrust_core-0.0.58-py3-none-any.whl (4.4 kB)\n",
      "Downloading autoevals-0.0.127-py3-none-any.whl (53 kB)\n",
      "\u001b[2K   \u001b[90m━━━━━━━━━━━━━━━━━━━━━━━━━━━━━━━━━━━━━━━━\u001b[0m \u001b[32m53.2/53.2 kB\u001b[0m \u001b[31m2.2 MB/s\u001b[0m eta \u001b[36m0:00:00\u001b[0m\n",
      "\u001b[?25hDownloading exceptiongroup-1.2.2-py3-none-any.whl (16 kB)\n",
      "Downloading chevron-0.14.0-py3-none-any.whl (11 kB)\n",
      "Downloading polyleven-0.9.0-cp311-cp311-manylinux_2_5_x86_64.manylinux1_x86_64.manylinux_2_17_x86_64.manylinux2014_x86_64.whl (20 kB)\n",
      "Downloading python_dotenv-1.1.0-py3-none-any.whl (20 kB)\n",
      "Downloading sseclient_py-1.8.0-py2.py3-none-any.whl (8.8 kB)\n",
      "Installing collected packages: sseclient-py, chevron, python-dotenv, polyleven, exceptiongroup, braintrust_core, braintrust, autoevals\n",
      "Successfully installed autoevals-0.0.127 braintrust-0.0.201 braintrust_core-0.0.58 chevron-0.14.0 exceptiongroup-1.2.2 polyleven-0.9.0 python-dotenv-1.1.0 sseclient-py-1.8.0\n"
     ]
    }
   ],
   "source": [
    "!pip install braintrust autoevals"
   ]
  },
  {
   "cell_type": "code",
   "execution_count": null,
   "metadata": {
    "id": "MMGl8Aby7wWl"
   },
   "outputs": [],
   "source": [
    "braintrust_api_key = userdata.get('braintrust_api_key')\n",
    "\n",
    "import os\n",
    "os.environ['OPENAI_API_KEY'] = openai_api_key\n",
    "\n",
    "from braintrust import init_logger, traced, wrap_openai, Eval\n",
    "from openai import OpenAI\n",
    "\n",
    "logger = init_logger(project=\"Course-202504\", api_key=braintrust_api_key)\n",
    "client = wrap_openai(OpenAI(api_key=openai_api_key))\n"
   ]
  },
  {
   "cell_type": "markdown",
   "metadata": {
    "id": "vklqiGARdTI5"
   },
   "source": [
    "\n",
    "## 評估資料準備: 合成資料 Synthetic Data\n",
    "\n",
    "若要人工製作 dataset，雖然品質好，但是實在太太辛苦了，可以怎麼辦?\n",
    "\n",
    "可用合成 dataset 策略! 用 LLM 幫我們產生評估資料集\n",
    "\n",
    "我們用合成的，原理是:\n",
    "\n",
    "1. 針對要做 RAG 的文本先拆 chunks，也就是 contexts\n",
    "2. 針對 context 用 LLM 產生對應的 \"問題\" 和 \"參考答案\"\n",
    "\n",
    "more: https://ihower.tw/notes/%E6%8A%80%E8%A1%93%E7%AD%86%E8%A8%98-AI/Synthetic+Data+%E5%90%88%E6%88%90%E8%B3%87%E6%96%99"
   ]
  },
  {
   "cell_type": "code",
   "execution_count": null,
   "metadata": {
    "colab": {
     "base_uri": "https://localhost:8080/"
    },
    "executionInfo": {
     "elapsed": 326,
     "status": "ok",
     "timestamp": 1745937871826,
     "user": {
      "displayName": "張文鈿（ihower）",
      "userId": "16942569988483049654"
     },
     "user_tz": -480
    },
    "id": "Ye2dzIfidgVX",
    "outputId": "5766203d-f382-4d3c-b4b7-1210dbd1ba7f"
   },
   "outputs": [
    {
     "name": "stdout",
     "output_type": "stream",
     "text": [
      "--2025-04-29 14:44:31--  https://www.megabank.com.tw/-/media/mega/files/bank/personal/fund/bulletin/weekly-journal/market-analysis/114/1140224.pdf\n",
      "Resolving www.megabank.com.tw (www.megabank.com.tw)... 23.54.222.162\n",
      "Connecting to www.megabank.com.tw (www.megabank.com.tw)|23.54.222.162|:443... connected.\n",
      "HTTP request sent, awaiting response... 200 OK\n",
      "Length: 1852669 (1.8M) [application/pdf]\n",
      "Saving to: ‘1140224.pdf’\n",
      "\n",
      "1140224.pdf         100%[===================>]   1.77M  --.-KB/s    in 0.1s    \n",
      "\n",
      "2025-04-29 14:44:31 (14.8 MB/s) - ‘1140224.pdf’ saved [1852669/1852669]\n",
      "\n"
     ]
    }
   ],
   "source": [
    "!wget https://www.megabank.com.tw/-/media/mega/files/bank/personal/fund/bulletin/weekly-journal/market-analysis/114/1140224.pdf"
   ]
  },
  {
   "cell_type": "code",
   "execution_count": null,
   "metadata": {
    "colab": {
     "base_uri": "https://localhost:8080/"
    },
    "executionInfo": {
     "elapsed": 5758,
     "status": "ok",
     "timestamp": 1745937878437,
     "user": {
      "displayName": "張文鈿（ihower）",
      "userId": "16942569988483049654"
     },
     "user_tz": -480
    },
    "id": "Vjb4VEbz9ZDI",
    "outputId": "13f02696-36c2-4697-bf33-787843ded513"
   },
   "outputs": [
    {
     "name": "stdout",
     "output_type": "stream",
     "text": [
      "Collecting pymupdf\n",
      "  Downloading pymupdf-1.25.5-cp39-abi3-manylinux2014_x86_64.manylinux_2_17_x86_64.whl.metadata (3.4 kB)\n",
      "Downloading pymupdf-1.25.5-cp39-abi3-manylinux2014_x86_64.manylinux_2_17_x86_64.whl (20.0 MB)\n",
      "\u001b[2K   \u001b[90m━━━━━━━━━━━━━━━━━━━━━━━━━━━━━━━━━━━━━━━━\u001b[0m \u001b[32m20.0/20.0 MB\u001b[0m \u001b[31m89.2 MB/s\u001b[0m eta \u001b[36m0:00:00\u001b[0m\n",
      "\u001b[?25hInstalling collected packages: pymupdf\n",
      "Successfully installed pymupdf-1.25.5\n"
     ]
    }
   ],
   "source": [
    "!pip install pymupdf"
   ]
  },
  {
   "cell_type": "code",
   "execution_count": null,
   "metadata": {
    "id": "yxzGRyZQ8oFH"
   },
   "outputs": [],
   "source": [
    "import fitz # PyMuPDF library\n",
    "pages = fitz.open(\"1140224.pdf\")"
   ]
  },
  {
   "cell_type": "code",
   "execution_count": null,
   "metadata": {
    "id": "x7KXZvn_AqdD"
   },
   "outputs": [],
   "source": [
    "from typing import List\n",
    "from pydantic import Field, BaseModel\n",
    "\n",
    "class QAPair(BaseModel):\n",
    "    reference: str = Field(..., description=\"The exact text segment from the original context that this Q&A is based on\")\n",
    "    question: str = Field(description=\"A single question about the content\")\n",
    "    answer: str = Field(..., description=\"Answer\")\n",
    "\n",
    "class QAPairs(BaseModel):\n",
    "    pairs: List[QAPair] = Field(..., description=\"List of question/answer pairs\")\n",
    "\n",
    "@traced\n",
    "def produce_questions(content):\n",
    "    completion = client.beta.chat.completions.parse(\n",
    "        model=\"gpt-4.1-mini\",\n",
    "        messages=[\n",
    "            {\n",
    "                \"role\": \"user\",\n",
    "                \"content\": f\"\"\"Please generate 2 question/answer pairs from the following text, focusing specifically on investment and personal finance topics.\n",
    "For each pair, provide a single question, a unique answer, and include the exact text segment from the original context that the Q&A is based on.\n",
    "\n",
    "IMPORTANT:\n",
    "1. Focus ONLY on investment, financial planning, wealth management, stock market, retirement planning, tax optimization, or other personal finance related topics.\n",
    "2. All questions and answers MUST be in Traditional Chinese (Taiwan).\n",
    "3. Use terminology and expressions commonly used in Taiwan's financial sector.\n",
    "4. If the context doesn't contain finance-related information, extract the most relevant aspects that could be applied to personal finance or investment decisions.\n",
    "5. For each Q&A pair, include the exact text from the original context that contains the information used for the Q&A. This should be copied verbatim from the input context.\n",
    "\n",
    "Context: <context>{content}</context>\"\"\",\n",
    "            }\n",
    "        ],\n",
    "        response_format=QAPairs\n",
    "    )\n",
    "\n",
    "    parsed_result = completion.choices[0].message.parsed\n",
    "    pairs = parsed_result.pairs\n",
    "    return pairs"
   ]
  },
  {
   "cell_type": "code",
   "execution_count": null,
   "metadata": {
    "colab": {
     "base_uri": "https://localhost:8080/"
    },
    "executionInfo": {
     "elapsed": 2734,
     "status": "ok",
     "timestamp": 1745939634612,
     "user": {
      "displayName": "張文鈿（ihower）",
      "userId": "16942569988483049654"
     },
     "user_tz": -480
    },
    "id": "cMHNfZEbFsgX",
    "outputId": "0fae6874-0f0f-4b87-941b-40dc3c547c65"
   },
   "outputs": [
    {
     "data": {
      "text/plain": [
       "[QAPair(reference='兆豐銀行所做任何投資意見與市場分析結果，係依據資料製作當時情況進行判斷', question='兆豐銀行的投資建議是基於什麼情況做判斷？', answer='兆豐銀行的投資建議是根據當時所擁有的資料及市場情況進行判斷。'),\n",
       " QAPair(reference='投資標的之價格與收益將隨時變動，亦不必然為未來績效表現', question='投資標的的價格與收益是否一定能反映未來績效？', answer='投資標的的價格與收益會隨時變動，並不保證能反映未來的績效表現。')]"
      ]
     },
     "execution_count": 89,
     "metadata": {},
     "output_type": "execute_result"
    }
   ],
   "source": [
    "x = produce_questions('兆豐銀行所做任何投資意見與市場分析結果，係依據資料製作當時情況進行判斷\\n惟可能因市場變化而變動，投資標的之價格與收益將隨時變動，亦不必然為未來績效表現')\n",
    "x"
   ]
  },
  {
   "cell_type": "code",
   "execution_count": null,
   "metadata": {
    "id": "r1sb1qzGF2J7"
   },
   "outputs": [],
   "source": [
    "h = x[0].model_dump()"
   ]
  },
  {
   "cell_type": "code",
   "execution_count": null,
   "metadata": {
    "colab": {
     "base_uri": "https://localhost:8080/"
    },
    "executionInfo": {
     "elapsed": 9,
     "status": "ok",
     "timestamp": 1745939670587,
     "user": {
      "displayName": "張文鈿（ihower）",
      "userId": "16942569988483049654"
     },
     "user_tz": -480
    },
    "id": "AR2hxPL2HQrH",
    "outputId": "007132af-ea58-4521-ecc4-af0355483d3a"
   },
   "outputs": [
    {
     "data": {
      "text/plain": [
       "{'reference': '兆豐銀行所做任何投資意見與市場分析結果，係依據資料製作當時情況進行判斷',\n",
       " 'question': '兆豐銀行的投資建議是基於什麼情況做判斷？',\n",
       " 'answer': '兆豐銀行的投資建議是根據當時所擁有的資料及市場情況進行判斷。',\n",
       " 'test': 1234}"
      ]
     },
     "execution_count": 93,
     "metadata": {},
     "output_type": "execute_result"
    }
   ],
   "source": [
    "h['test'] = 1234\n",
    "h"
   ]
  },
  {
   "cell_type": "code",
   "execution_count": null,
   "metadata": {
    "colab": {
     "base_uri": "https://localhost:8080/"
    },
    "executionInfo": {
     "elapsed": 106553,
     "status": "ok",
     "timestamp": 1745939794496,
     "user": {
      "displayName": "張文鈿（ihower）",
      "userId": "16942569988483049654"
     },
     "user_tz": -480
    },
    "id": "PqeMB7IwBs7a",
    "outputId": "e7fdff42-258d-4d04-b650-d0cfd427f477"
   },
   "outputs": [
    {
     "name": "stdout",
     "output_type": "stream",
     "text": [
      "{'reference': '兆豐銀行所做任何投資意見與市場分析結果，係依據資料製作當時情況進行判斷\\n惟可能因市場變化而變動，投資標的之價格與收益將隨時變動，亦不必然為未來績效表現', 'question': '兆豐銀行提供的投資意見有何風險？', 'answer': '兆豐銀行的投資意見是依據當時資料進行判斷，然而因市場變化，投資標的價格與收益會隨時變動，且不保證未來績效。', 'page_index': 0}\n",
      "{'reference': '兆豐銀行所做任何投資意見與市場分析結果，係依據資料製作當時情況進行判斷\\n惟可能因市場變化而變動，投資標的之價格與收益將隨時變動，亦不必然為未來績效表現', 'question': '為何投資標的的價格與收益會持續變動？', 'answer': '因市場變化，投資標的的價格與收益會隨時變動，反映市場行情及風險的變化。', 'page_index': 0}\n",
      "{'reference': '兆豐銀行所做任何投資意見與市場分析結果，係依據資料製作當時情況進行判斷\\n惟可能因市場變化而變動，投資標的之價格與收益將隨時變動，亦不必然為未來績效表現', 'question': '兆豐銀行的投資意見為何可能不適用於未來投資策略？', 'answer': '兆豐銀行的投資意見是根據當時資料和情況判斷，因市場隨時變動，投資標的價格與收益也會變化，無法保證未來績效，因此投資策略需隨市場變化調整。', 'page_index': 1}\n",
      "{'reference': '兆豐銀行所做任何投資意見與市場分析結果，係依據資料製作當時情況進行判斷\\n惟可能因市場變化而變動，投資標的之價格與收益將隨時變動，亦不必然為未來績效表現', 'question': '投資人在參考兆豐銀行的市場分析時，應注意哪些風險？', 'answer': '投資人應注意市場變化可能導致投資標的價格和收益波動，且銀行提供的分析乃基於當時資料，未必反映未來表現，因此需謹慎評估風險並持續監控市場。', 'page_index': 1}\n",
      "{'reference': '兆豐銀行所做任何投資意見與市場分析結果，係依據資料製作當時情況進行判斷\\n惟可能因市場變化而變動，投資標的之價格與收益將隨時變動，亦不必然為未來績效表現', 'question': '兆豐銀行的投資建議依據哪些情況進行判斷？未來績效如何保證？', 'answer': '兆豐銀行的投資意見與市場分析是依據資料製作當時的情況進行判斷，但由於市場會變動，投資標的價格與收益會隨時變動，且不保證未來績效。', 'page_index': 2}\n",
      "{'reference': '全球主要股票指數(%)\\n全球主要債券指數(%)\\n全球主要商品指數(%)\\n全球主要匯率(%)', 'question': '根據資料，過去一年全球主要股票指數的整體漲跌趨勢為何？投資人應如何看待此趨勢？', 'answer': '過去一年全球主要股票指數如MSCI AC世界指數、S&P 500指數分別上漲16.93%及20.70%，整體呈現漲勢。投資人可視為整體股票市場表現良好，但仍應考量市場波動及投資風險。', 'page_index': 2}\n",
      "{'reference': '兆豐銀行所做任何投資意見與市場分析結果，係依據資料製作當時情況進行判斷\\n惟可能因市場變化而變動，投資標的之價格與收益將隨時變動，亦不必然為未來績效表現', 'question': '兆豐銀行提供的投資意見對投資人有何提示？', 'answer': '兆豐銀行提供的投資意見是基於當時資料與情況判斷，投資標的價格與收益會隨市場變動，不保證未來績效。投資人應注意投資風險，勿視其為保證未來表現的承諾。', 'page_index': 3}\n",
      "{'reference': '日 本 GDP年化經季調(季比)\\n4Q P\\n1.10%\\n2.80%\\n1.20%', 'question': '根據公布的數據，日本第四季GDP年化經季調較市場預期有何差異？', 'answer': '日本第四季GDP年化經季調實際公布為2.80%，高於市場預期的1.10%，顯示當季經濟表現優於預期，對投資人判斷日本經濟及股市布局具有參考價值。', 'page_index': 3}\n",
      "{'reference': '美銀美林經理人調查報告顯示，最看好全球股和美股，對歐股的看好程度亦大幅提升，認為價值股優於成長股，小型股優於大型股，看好銀行金融類股，美股高檔震盪，美國經濟仍保持韌性，企業盈餘成長仍領先全球，建議投資人布局以美國優於其他國家。', 'question': '根據美銀美林經理人調查報告，投資人應如何布局股票市場？', 'answer': '建議投資人以美國股市為主要布局方向，偏好價值股、銀行金融類股及小型股，因美國經濟韌性佳且企業盈餘成長領先全球。', 'page_index': 4}\n",
      "{'reference': '日本2024年GDP與經常帳數字表現不俗，主要得益於日圓貶值帶動出口競爭力、外國人到訪旅遊令服務收支上揚、外國投資海外匯兌收益提升等因素，共同驅動日本經濟成長動能。預估2025年實質GDP年增長1.3%，其中個人消費的回暖將驅動經濟持續復甦，加上日本政府為了緩解生活成本壓力，計劃推出的補貼措施，將有機會進一步刺激消費、推動經濟增長，並提升內需企業的獲利，有助日股後市表現。', 'question': '日本經濟今年及明年的成長動能主要來自哪些因素？投資日股是否有利？', 'answer': '日本經濟成長主要來自日圓貶值帶動出口競爭力提升、觀光業回溫及外國投資收益成長，2025年個人消費回暖及政府補貼刺激消費，有助內需企業獲利，整體利好日股後市表現，適合投資布局。', 'page_index': 4}\n",
      "{'reference': '建議投資人可鎖定在中短天期的投資等級債，在獲取穩定息收的同時，降低利率前景變化帶來的波動風險。', 'question': '根據兆豐銀行的建議，面對利率波動風險，投資人應該採取何種投資策略？', 'answer': '投資人應鎖定中短天期的投資等級債，以獲取穩定的息收，同時降低利率變動帶來的波動風險。', 'page_index': 5}\n",
      "{'reference': '2月份密西根大學消費者信心指數意外降至64.7(前月71.7)。2月份美國服務業PMI初值報49.7(前月52.9)，跌落至榮枯線下方，逾2年低點，反映了企業環境的不確定性增加，特別是政府削減開支和關稅問題，同時採購經理人還擔憂價格上漲和地緣政治風險，通膨憂慮揮之不去。', 'question': '近期有哪些經濟數據顯示消費者信心與企業投資環境的不確定性增加？', 'answer': '2月份密西根大學消費者信心指數意外降至64.7，低於前月71.7；美國服務業PMI初值報49.7，跌至榮枯線下方且達兩年低點，反映企業環境不確定性提升，尤其因政府削減開支、關稅問題及通膨憂慮。', 'page_index': 5}\n",
      "{'reference': '美股2025年獲利年增率可望維持雙位數成長，有利股市維持長線多頭格局。', 'question': '2025年美股的獲利增長情況如何？對投資股市有何影響？', 'answer': '2025年美股預計獲利年增率可望維持雙位數成長，這有助於股市持續呈現長線多頭格局，投資人可望因此受惠。', 'page_index': 6}\n",
      "{'reference': '在類股上以通訊服務(+32.2%)、金融(30%)、非必須消費技(+25.4%)、科技(+17.9%)等類股企業獲利成長性最高，能源(-30.2%)與原物料(-2.9%)類股表現相對落後。', 'question': '哪些產業類股在2024年Q4擁有最高的獲利成長？應如何調整投資配置？', 'answer': '2024年Q4通訊服務、金融、非必須消費和科技類股獲利成長最高，投資人可考慮加碼這些高成長行業的股票，並降低能源及原物料類股的投資比重以優化投資組合。', 'page_index': 6}\n",
      "{'reference': '八成經理人認為經濟不會衰退、聯準會將持續降息至少一次：2月份美銀美林經理人調查報告顯示，超過8成受訪經理人認為經濟不會衰退，近8成認為聯準會將持續降息至少一次。由於持續看好股市的表現，本月調查的現金水位降至3.5%，為2010年以來的最低水準。', 'question': '根據美銀美林2月份經理人調查，受訪者對未來經濟與聯準會政策有何看法？', 'answer': '超過八成經理人認為經濟不會衰退，且近八成認為聯準會將持續降息至少一次，反映出對未來經濟與利率政策持樂觀看法。', 'page_index': 7}\n",
      "{'reference': '經理人看好全球股和美股，偏好小型股、金融類股：受訪經理人認為股優於債，最看好全球股和美股，對歐股的看好程度亦大幅提升，認為價值股優於成長股，小型股優於大型股，看好銀行金融類股，債券方面則維持減碼。做多科技七雄與做多美元處於最擁擠交易前兩名。', 'question': '經理人目前在資產配置上有何偏好？', 'answer': '經理人偏好股票優於債券，尤其看好全球股及美股，偏重價值股與小型股，特別青睞銀行金融類股，債券部位則持續減碼。', 'page_index': 7}\n",
      "{'reference': '日本央行於7月前升息機率超過80%：高於預期的CPI物價數據，增強央行對於通膨持穩在2%目標水平附近的信心，隔夜指數掉期顯示，市場認為日本央行7月前升息的可能性超過80%；彭博預期日本央行將在今年4月與7月各升息1碼，將目標利率上調至1.0%，日圓兌美元匯率可能從目前的150-160區間回升至140-150區間。', 'question': '日本央行在今年內預計會有什麼利率變動，這對投資人意味著什麼？', 'answer': '根據市場資訊顯示，日本央行在今年4月與7月各預計調升利率1碼，目標利率將提高至1.0%。這可能導致日圓對美元匯率回升至140-150區間，對外匯投資及與日本資產相關的投資組合將產生影響，投資人應注意利率與匯率波動帶來的風險與機會。', 'page_index': 8}\n",
      "{'reference': '日本核心CPI連續第34個月高於央行設定的2%目標：日本食品價格與電費等能源價格上漲，推升1月消費者物價指數(CPI)從去年12月的3.6%上升至4.0%，符合預期；核心CPI(不包括生鮮食品)從去年12月的3.0%上升至3.2%，高於市場預期的3.1%，連續第34個月高於央行所設定的2%目標。', 'question': '日本持續高於央行目標的核心消費者物價指數(CPI)對投資理財有何啟示？', 'answer': '日本核心CPI持續高於央行設定的2%目標，顯示通膨壓力持續，投資人應關注通膨對固定收益商品的影響，考慮調整資產配置以抵禦通膨風險，並留意央行可能升息以抑制通膨，進而影響市場利率與股市表現。', 'page_index': 8}\n",
      "{'reference': '日本GDP與經常帳盈餘表現不俗：日本2024年國內生產總值(GDP)達609兆日圓，名目GDP年成長2.9%、實質GDP年成長0.1%，不僅首次突破600兆日圓且實現連續4年正成長；此外，2024年日本經常收支順差超過29兆日圓亦創下歷史新高，年增率達29.5%。GDP與經常帳數字表現不俗，主要得益於日圓貶值帶動出口競爭力(尤其以半導體相關產業鏈與汽車出口表現強勁)、外國人到訪旅遊令服務收支上揚、外國投資海外匯兌收益提升等因素，共同驅動日本經濟成長動能。', 'question': '投資者為何應關注日本2024年GDP與經常帳盈餘的表現？', 'answer': '因日本2024年GDP持續穩健成長且經常帳順差創歷史新高，顯示經濟具成長動能，尤其在日圓貶值推升出口競爭力和外資收益增加的情況下，有利於投資日本股市及相關產業。', 'page_index': 9}\n",
      "{'reference': '預期2025年日本消費回暖推升實質GDP成長：統計10位日本經濟學家的預期，在剔除物價變動的影響後，預估2025年實質GDP年增長1.3%，其中個人消費將由-0.1%轉為正成長1.0%，個人消費的回暖將驅動經濟持續復甦。此外，日本的加薪幅度已經連續兩年超越通膨，這個趨勢有望延續到2025年的春鬥談判，加上日本政府為了緩解生活成本壓力，計劃推出的補貼措施，將有機會進一步刺激消費、推動經濟增長，並提升內需企業的獲利，有助日股後市表現。', 'question': '2025年日本消費回暖的預期對投資人有何意義？', 'answer': '消費成長預期提升實質GDP，且加薪幅度領先通膨及政府補貼措施預計刺激需求，將增強企業獲利與內需市場活力，對台灣投資人來說，投資日股及與內需相關企業可能帶來較佳報酬。', 'page_index': 9}\n",
      "{'reference': '未來將實施更加積極的財政政策和適度寬鬆的貨幣政策，持續推動中國經濟增長。', 'question': '中國人行未來的政策方向為何，可能如何影響投資者的資產配置？', 'answer': '中國人民銀行將實施更加積極的財政政策和適度寬鬆的貨幣政策，有助於推動經濟成長，投資者可考慮適度提高對中國相關資產的配置以分享政策利多帶來的成長機會。', 'page_index': 10}\n",
      "{'reference': '中國AI發展令股市進入技術性牛市，但是考慮到關稅不確定性及總經疲弱的環境，產業發展恐分化，建議投資人評估自身風險承受度，逢回酌量衛星布局，選股不選市，並聚焦在具AI概念且營收展望佳的科技股。', 'question': '在中國股市進入技術性牛市背景下，對於投資人在AI相關科技股的投資建議為何？', 'answer': '建議投資人評估自身風險承受度，逢回調時分批少量配置，採取選股不選市的策略，重點布局具AI概念且營收展望佳的科技股，以分散產業分化風險。', 'page_index': 10}\n",
      "{'reference': '輝達財報前瞻：12個月平均目標價達每股174美元\\n•\\n科技巨頭資本支出維持高檔，預估輝達Q4財報表現不俗：Meta、微軟、谷歌、特斯拉及亞馬遜財報顯示，2025年合計\\n資本支出預估高達3,310億美元，儘管DeepSeek展示低成本AI的可能性，但GPU訓練AI仍是最有效的方式。\\n•\\n多家投行看好業績前景，股價預估仍有2成漲幅：摩根史坦利、瑞銀、美國銀行等多家大型投行持續看好輝達股價表現，\\n彭博統計顯示，輝達股票12個月目標價達$174.4，相對當前股價仍有2成的報酬潛力，綜合買進評等比例達89.6%。', 'question': '根據文中資訊，輝達股票未來12個月的報酬潛力為何？', 'answer': '根據多家大型投行的分析，輝達股票未來12個月的報酬潛力約為29.76%，相較於當前股價有約2成的漲幅空間。', 'page_index': 11}\n",
      "{'reference': '輝達4Q24業績前瞻(單位：美元)\\n彭博綜合評等\\n資料來源：Bloomberg，2025.2.21。\\n財報發布日：美國時間2/26盤後\\n營收\\n經調整淨利\\n經調整\\n每股盈餘\\n預估\\n382.5億\\n209.8億\\n0.84 \\n預估\\n年成長率\\n+73%\\n+63%\\n+63% \\n投行評級\\n(比例)\\n投行統計平均\\n買進\\n89.6%\\n持有\\n9.1%\\n收盤價\\n(2025/2/21)\\n134.40\\n賣出\\n1.3%\\n報酬潛力\\n+29.76%', 'question': '該文如何評價輝達2024年第4季的財務表現？', 'answer': '根據預估，輝達2024年第4季營收將達382.5億美元，年成長率約73%，經調整淨利約209.8億美元，年成長率63%，每股盈餘為0.84美元，且多數投行對其評等為買進，顯示財務表現被看好。', 'page_index': 11}\n",
      "{'reference': '市\\n場\\n焦\\n點\\n聚\\n焦\\n議\\n題\\n資\\n產\\n觀\\n點\\n市\\n場\\n回\\n顧\\n•\\n關稅影響短暫，把握利率處高位投資時機：自川普上任以來關稅議題於市場中頗有紛擾，然政策已有充分預期，令美\\n債市場近期仍保持穩定，並未大幅波動，多數調研機構也認為關稅影響短暫，當通膨反彈後將逐步消退，而經濟成長\\n將逐步回歸至聯準會的預期中。投資者應把握利率尚處高位的投資好時機，以實現穩定的回報。', 'question': '為何投資者應該把握利率處於高位的投資時機？', 'answer': '因為美債市場近期仍保持穩定，關稅影響為短暫性，通膨反彈後逐步消退並使經濟成長回歸聯準會預期，故利率高位提供穩定回報的好時機。', 'page_index': 12}\n",
      "{'reference': '美債殖利率歷史高位區，利好進場投資並長期持有：依據過往經驗，在高殖利率水準進場投資並長期持有，報酬表現\\n將相較過去長期平均略勝一籌，加上推估經濟軟著陸可能性高，信用利差有繼續收窄之勢，及利用債券固定配息的特\\n性，投資回歸長期穩健的現金流策略，進而大幅增添其投資價值。', 'question': '在目前美債殖利率處於歷史高位，投資債券有何優勢？', 'answer': '高殖利率進場並長期持有往往帶來超越長期平均的報酬，加上經濟可能軟著陸及信用利差收窄，利用債券固定配息特性可實現穩健現金流並提升投資價值。', 'page_index': 12}\n",
      "{'reference': '短年期非投債，利率敏感度低：聯準會的降息有助固定收益資產，但降息幅度收斂，使長期資產波動加劇。短年期非投債存續期短，對利率變動的敏感度較低，相較於長債，投資者不必擔心利率上升影響債券價格。對於追求收益與風險平衡的投資者而言，鎖定短年期非投債，可在收取相對固定高息同時，控制投資風險，並捕捉到市場變動時機，有效在利率拐點前把握高息收入為主、資本利得為輔的原則，鎖定優質收益。', 'question': '為何投資者在當前市場環境下應優先考慮短年期非投資等級債券？', 'answer': '因為短年期非投資等級債券存續期短，利率敏感度低，不必擔心利率上升對債券價格造成影響，且能在收取相對固定高息的同時控制投資風險，適合追求收益與風險平衡的投資者。', 'page_index': 13}\n",
      "{'reference': '美元非投債違約率低於長期均值：美國經濟景氣基本面的向好，預估美元非投資等級債券的違約率有望降至1.3%，遠低於長期均值3.4%，反映出企業違約風險較低的優勢。而經濟軟著陸的預期也使短天期美元非投資等級債券具有持續的固定息收，並優於股市較劇烈的資產波動，成為累計總報酬的重要來源。', 'question': '美國美元非投資等級債券的違約率趨勢對投資人有何意義？', 'answer': '美元非投資等級債券預估違約率降至1.3%，低於長期均值3.4%，表示企業違約風險降低，加上經濟軟著陸預期，短天期美元非投資等級債券能持續提供穩定息收且波動低於股市，是累計總報酬的重要投資標的。', 'page_index': 13}\n",
      "{'reference': '美國科技股、價值股、小型股、公用事業Easing\\n受惠降息的題材', 'question': '在降息環境下，哪些美國股票類別可能較受惠？', 'answer': '在降息環境下，美國科技股、價值股、小型股及公用事業股為較受惠的投資標的。', 'page_index': 14}\n",
      "{'reference': '非投資等級債、投資等級債Asia\\n優選亞洲強國', 'question': '投資者在配息及收益策略中，亞洲市場有何投資建議？', 'answer': '在配息及收益策略中，建議優先選擇亞洲強國的投資等級債及非投資等級債。', 'page_index': 14}\n",
      "{'reference': '基金經理公司以往之經理績效不保證基金之最低投資收益；基金經理公司除盡善良管理人之注意義務外，不負責本基金之盈虧，亦不保證最低之收益，投資人申購前應詳閱基金公開說明書。', 'question': '為什麼投資人申購基金前應詳閱基金公開說明書？', 'answer': '因為基金經理公司的過去績效不保證未來收益，加上其除了盡善良管理人義務外，不負責基金盈虧，也不保證最低收益，投資人需了解相關風險並詳閱基金公開說明書以做出明智投資決策。', 'page_index': 15}\n",
      "{'reference': '基金配息率不代表基金報酬率，且過去配息率不代表未來配息率；基金淨值可能因市場因素而上下波動。投資人因不同時間進場，將有不同之投資績效，過去之績效亦不代表未來績效之保證。', 'question': '基金配息率是否能確保未來收益？', 'answer': '基金配息率不代表實際報酬率，而且過去的配息率不代表未來也會持續有相同配息，因為基金淨值會隨市場波動，投資人不同進場時間會有不同績效，過去績效不保證未來表現。', 'page_index': 15}\n"
     ]
    }
   ],
   "source": [
    "dataset = []\n",
    "for idx, page in enumerate(pages):\n",
    "    context = page.get_text()\n",
    "    pairs = produce_questions(context)\n",
    "    for pair in pairs:\n",
    "      h = pair.model_dump()\n",
    "      h[\"page_index\"] = idx\n",
    "      print(h)\n",
    "      dataset.append(h)"
   ]
  },
  {
   "cell_type": "code",
   "execution_count": null,
   "metadata": {
    "id": "TdhCzmY6D7n5"
   },
   "outputs": [],
   "source": [
    "eval_dataset = []\n",
    "for qa in dataset:\n",
    "    eval_dataset.append(\n",
    "        {\n",
    "            \"input\": qa['question'],\n",
    "            \"expected\": qa['answer'],\n",
    "            \"metadata\": {\n",
    "                \"reference\": qa['reference'],\n",
    "                'page_index': qa['page_index'],\n",
    "                'file_name': '1140224.pdf'\n",
    "            },\n",
    "        }\n",
    "    )"
   ]
  },
  {
   "cell_type": "markdown",
   "metadata": {
    "id": "_gLh8zTeG0XK"
   },
   "source": [
    "## Baseline (No RAG)"
   ]
  },
  {
   "cell_type": "code",
   "execution_count": null,
   "metadata": {
    "id": "46N7YQNNG1m-"
   },
   "outputs": [],
   "source": [
    "def simple_qa(question):\n",
    "    completion = client.chat.completions.create(\n",
    "        model=\"gpt-4.1-mini\",\n",
    "        messages=[\n",
    "            {\n",
    "                \"role\": \"user\",\n",
    "                \"content\": question,\n",
    "            }\n",
    "        ],\n",
    "    )\n",
    "    return completion.choices[0].message.content"
   ]
  },
  {
   "cell_type": "code",
   "execution_count": null,
   "metadata": {
    "colab": {
     "base_uri": "https://localhost:8080/"
    },
    "executionInfo": {
     "elapsed": 124,
     "status": "ok",
     "timestamp": 1745940858481,
     "user": {
      "displayName": "張文鈿（ihower）",
      "userId": "16942569988483049654"
     },
     "user_tz": -480
    },
    "id": "t6FmensVHkFn",
    "outputId": "268bc978-3dd7-46a6-e2c5-65a65ee51713"
   },
   "outputs": [
    {
     "name": "stderr",
     "output_type": "stream",
     "text": [
      "Experiment No RAG-cd7feb24 is running at https://www.braintrust.dev/app/ihower/p/Course-202504/experiments/No%20RAG-cd7feb24\n"
     ]
    },
    {
     "data": {
      "text/plain": [
       "<Task pending name='Task-594' coro=<_EvalCommon.<locals>.run_to_completion() running at /usr/local/lib/python3.11/dist-packages/braintrust/framework.py:656>>"
      ]
     },
     "execution_count": 123,
     "metadata": {},
     "output_type": "execute_result"
    },
    {
     "name": "stderr",
     "output_type": "stream",
     "text": [
      "\rCourse-202504 [experiment_name=No RAG] (data): 0it [00:00, ?it/s]"
     ]
    }
   ],
   "source": [
    "import autoevals\n",
    "\n",
    "Eval(\n",
    "    name=\"Course-202504\",\n",
    "    experiment_name=\"No RAG\",\n",
    "    data=eval_dataset,\n",
    "    task=simple_qa,\n",
    "    scores=[autoevals.Factuality(model=\"gpt-4.1\")],\n",
    ")"
   ]
  },
  {
   "cell_type": "markdown",
   "metadata": {
    "id": "IVTDfiCgqumo"
   },
   "source": [
    "## Naive RAG\n",
    "\n",
    "我們用 braintrust 提供的 autoevals 套件中的內建評估 prompt: Factuality  https://github.com/braintrustdata/autoevals/blob/main/templates/factuality.yaml\n",
    "\n",
    "這讓 AI 拿你 task 的 output 和 dataset 中的 expected，比較兩個回答之間的事實內容差異，常見於自動評估問答或教學模型輸出的正確性。以下是詳細解釋：\n",
    "\n",
    "* (A)\t提交的回答是專家答案的子集合，且完全一致。（例：專家說 A+B+C，提交只說 A+C，但沒說錯）\n",
    "* (B)\t提交的回答是專家答案的超集合，也就是它包含更多細節，但與專家內容一致。（例：專家說 A+C，提交說 A+B+C+D）\n",
    "* (C)\t提交的回答與專家答案完全一樣，所有細節一致\n",
    "* (D)\t兩者有事實上的衝突或矛盾\n",
    "* (E)\t雖然兩者不完全一樣，但差異不影響事實正確性（可能是換句話說、順序不同等）\n",
    "\n",
    "\n",
    "* C 與 E 是「最理想」的狀態，得分是 1\n",
    "* B 比 A 更完整，分數略高。0.6 跟 0.4\n",
    "* D 是錯誤，得 0 分。\n",
    "\n",
    "\n"
   ]
  },
  {
   "cell_type": "code",
   "execution_count": null,
   "metadata": {
    "colab": {
     "base_uri": "https://localhost:8080/"
    },
    "executionInfo": {
     "elapsed": 20088,
     "status": "ok",
     "timestamp": 1745940348794,
     "user": {
      "displayName": "張文鈿（ihower）",
      "userId": "16942569988483049654"
     },
     "user_tz": -480
    },
    "id": "fDWcfXjiqdkG",
    "outputId": "29a38240-862c-495c-e4ab-0b1a49a8671a"
   },
   "outputs": [
    {
     "name": "stdout",
     "output_type": "stream",
     "text": [
      "Collecting chromadb\n",
      "  Downloading chromadb-1.0.7-cp39-abi3-manylinux_2_17_x86_64.manylinux2014_x86_64.whl.metadata (6.9 kB)\n",
      "Collecting build>=1.0.3 (from chromadb)\n",
      "  Downloading build-1.2.2.post1-py3-none-any.whl.metadata (6.5 kB)\n",
      "Requirement already satisfied: pydantic>=1.9 in /usr/local/lib/python3.11/dist-packages (from chromadb) (2.11.3)\n",
      "Collecting chroma-hnswlib==0.7.6 (from chromadb)\n",
      "  Downloading chroma_hnswlib-0.7.6-cp311-cp311-manylinux_2_17_x86_64.manylinux2014_x86_64.whl.metadata (252 bytes)\n",
      "Collecting fastapi==0.115.9 (from chromadb)\n",
      "  Downloading fastapi-0.115.9-py3-none-any.whl.metadata (27 kB)\n",
      "Collecting uvicorn>=0.18.3 (from uvicorn[standard]>=0.18.3->chromadb)\n",
      "  Downloading uvicorn-0.34.2-py3-none-any.whl.metadata (6.5 kB)\n",
      "Requirement already satisfied: numpy>=1.22.5 in /usr/local/lib/python3.11/dist-packages (from chromadb) (2.0.2)\n",
      "Collecting posthog>=2.4.0 (from chromadb)\n",
      "  Downloading posthog-4.0.1-py2.py3-none-any.whl.metadata (3.0 kB)\n",
      "Requirement already satisfied: typing-extensions>=4.5.0 in /usr/local/lib/python3.11/dist-packages (from chromadb) (4.13.2)\n",
      "Collecting onnxruntime>=1.14.1 (from chromadb)\n",
      "  Downloading onnxruntime-1.21.1-cp311-cp311-manylinux_2_27_x86_64.manylinux_2_28_x86_64.whl.metadata (4.5 kB)\n",
      "Requirement already satisfied: opentelemetry-api>=1.2.0 in /usr/local/lib/python3.11/dist-packages (from chromadb) (1.32.1)\n",
      "Collecting opentelemetry-exporter-otlp-proto-grpc>=1.2.0 (from chromadb)\n",
      "  Downloading opentelemetry_exporter_otlp_proto_grpc-1.32.1-py3-none-any.whl.metadata (2.5 kB)\n",
      "Collecting opentelemetry-instrumentation-fastapi>=0.41b0 (from chromadb)\n",
      "  Downloading opentelemetry_instrumentation_fastapi-0.53b1-py3-none-any.whl.metadata (2.2 kB)\n",
      "Requirement already satisfied: opentelemetry-sdk>=1.2.0 in /usr/local/lib/python3.11/dist-packages (from chromadb) (1.32.1)\n",
      "Requirement already satisfied: tokenizers>=0.13.2 in /usr/local/lib/python3.11/dist-packages (from chromadb) (0.21.1)\n",
      "Collecting pypika>=0.48.9 (from chromadb)\n",
      "  Downloading PyPika-0.48.9.tar.gz (67 kB)\n",
      "\u001b[2K     \u001b[90m━━━━━━━━━━━━━━━━━━━━━━━━━━━━━━━━━━━━━━━━\u001b[0m \u001b[32m67.3/67.3 kB\u001b[0m \u001b[31m5.2 MB/s\u001b[0m eta \u001b[36m0:00:00\u001b[0m\n",
      "\u001b[?25h  Installing build dependencies ... \u001b[?25l\u001b[?25hdone\n",
      "  Getting requirements to build wheel ... \u001b[?25l\u001b[?25hdone\n",
      "  Preparing metadata (pyproject.toml) ... \u001b[?25l\u001b[?25hdone\n",
      "Requirement already satisfied: tqdm>=4.65.0 in /usr/local/lib/python3.11/dist-packages (from chromadb) (4.67.1)\n",
      "Collecting overrides>=7.3.1 (from chromadb)\n",
      "  Downloading overrides-7.7.0-py3-none-any.whl.metadata (5.8 kB)\n",
      "Requirement already satisfied: importlib-resources in /usr/local/lib/python3.11/dist-packages (from chromadb) (6.5.2)\n",
      "Requirement already satisfied: grpcio>=1.58.0 in /usr/local/lib/python3.11/dist-packages (from chromadb) (1.71.0)\n",
      "Collecting bcrypt>=4.0.1 (from chromadb)\n",
      "  Downloading bcrypt-4.3.0-cp39-abi3-manylinux_2_34_x86_64.whl.metadata (10 kB)\n",
      "Requirement already satisfied: typer>=0.9.0 in /usr/local/lib/python3.11/dist-packages (from chromadb) (0.15.2)\n",
      "Collecting kubernetes>=28.1.0 (from chromadb)\n",
      "  Downloading kubernetes-32.0.1-py2.py3-none-any.whl.metadata (1.7 kB)\n",
      "Requirement already satisfied: tenacity>=8.2.3 in /usr/local/lib/python3.11/dist-packages (from chromadb) (9.1.2)\n",
      "Requirement already satisfied: pyyaml>=6.0.0 in /usr/local/lib/python3.11/dist-packages (from chromadb) (6.0.2)\n",
      "Collecting mmh3>=4.0.1 (from chromadb)\n",
      "  Downloading mmh3-5.1.0-cp311-cp311-manylinux_2_5_x86_64.manylinux1_x86_64.manylinux_2_17_x86_64.manylinux2014_x86_64.whl.metadata (16 kB)\n",
      "Requirement already satisfied: orjson>=3.9.12 in /usr/local/lib/python3.11/dist-packages (from chromadb) (3.10.16)\n",
      "Requirement already satisfied: httpx>=0.27.0 in /usr/local/lib/python3.11/dist-packages (from chromadb) (0.28.1)\n",
      "Requirement already satisfied: rich>=10.11.0 in /usr/local/lib/python3.11/dist-packages (from chromadb) (13.9.4)\n",
      "Requirement already satisfied: jsonschema>=4.19.0 in /usr/local/lib/python3.11/dist-packages (from chromadb) (4.23.0)\n",
      "Collecting starlette<0.46.0,>=0.40.0 (from fastapi==0.115.9->chromadb)\n",
      "  Downloading starlette-0.45.3-py3-none-any.whl.metadata (6.3 kB)\n",
      "Requirement already satisfied: packaging>=19.1 in /usr/local/lib/python3.11/dist-packages (from build>=1.0.3->chromadb) (24.2)\n",
      "Collecting pyproject_hooks (from build>=1.0.3->chromadb)\n",
      "  Downloading pyproject_hooks-1.2.0-py3-none-any.whl.metadata (1.3 kB)\n",
      "Requirement already satisfied: anyio in /usr/local/lib/python3.11/dist-packages (from httpx>=0.27.0->chromadb) (4.9.0)\n",
      "Requirement already satisfied: certifi in /usr/local/lib/python3.11/dist-packages (from httpx>=0.27.0->chromadb) (2025.1.31)\n",
      "Requirement already satisfied: httpcore==1.* in /usr/local/lib/python3.11/dist-packages (from httpx>=0.27.0->chromadb) (1.0.9)\n",
      "Requirement already satisfied: idna in /usr/local/lib/python3.11/dist-packages (from httpx>=0.27.0->chromadb) (3.10)\n",
      "Requirement already satisfied: h11>=0.16 in /usr/local/lib/python3.11/dist-packages (from httpcore==1.*->httpx>=0.27.0->chromadb) (0.16.0)\n",
      "Requirement already satisfied: attrs>=22.2.0 in /usr/local/lib/python3.11/dist-packages (from jsonschema>=4.19.0->chromadb) (25.3.0)\n",
      "Requirement already satisfied: jsonschema-specifications>=2023.03.6 in /usr/local/lib/python3.11/dist-packages (from jsonschema>=4.19.0->chromadb) (2025.4.1)\n",
      "Requirement already satisfied: referencing>=0.28.4 in /usr/local/lib/python3.11/dist-packages (from jsonschema>=4.19.0->chromadb) (0.36.2)\n",
      "Requirement already satisfied: rpds-py>=0.7.1 in /usr/local/lib/python3.11/dist-packages (from jsonschema>=4.19.0->chromadb) (0.24.0)\n",
      "Requirement already satisfied: six>=1.9.0 in /usr/local/lib/python3.11/dist-packages (from kubernetes>=28.1.0->chromadb) (1.17.0)\n",
      "Requirement already satisfied: python-dateutil>=2.5.3 in /usr/local/lib/python3.11/dist-packages (from kubernetes>=28.1.0->chromadb) (2.9.0.post0)\n",
      "Requirement already satisfied: google-auth>=1.0.1 in /usr/local/lib/python3.11/dist-packages (from kubernetes>=28.1.0->chromadb) (2.38.0)\n",
      "Requirement already satisfied: websocket-client!=0.40.0,!=0.41.*,!=0.42.*,>=0.32.0 in /usr/local/lib/python3.11/dist-packages (from kubernetes>=28.1.0->chromadb) (1.8.0)\n",
      "Requirement already satisfied: requests in /usr/local/lib/python3.11/dist-packages (from kubernetes>=28.1.0->chromadb) (2.32.3)\n",
      "Requirement already satisfied: requests-oauthlib in /usr/local/lib/python3.11/dist-packages (from kubernetes>=28.1.0->chromadb) (2.0.0)\n",
      "Requirement already satisfied: oauthlib>=3.2.2 in /usr/local/lib/python3.11/dist-packages (from kubernetes>=28.1.0->chromadb) (3.2.2)\n",
      "Requirement already satisfied: urllib3>=1.24.2 in /usr/local/lib/python3.11/dist-packages (from kubernetes>=28.1.0->chromadb) (2.4.0)\n",
      "Collecting durationpy>=0.7 (from kubernetes>=28.1.0->chromadb)\n",
      "  Downloading durationpy-0.9-py3-none-any.whl.metadata (338 bytes)\n",
      "Collecting coloredlogs (from onnxruntime>=1.14.1->chromadb)\n",
      "  Downloading coloredlogs-15.0.1-py2.py3-none-any.whl.metadata (12 kB)\n",
      "Requirement already satisfied: flatbuffers in /usr/local/lib/python3.11/dist-packages (from onnxruntime>=1.14.1->chromadb) (25.2.10)\n",
      "Requirement already satisfied: protobuf in /usr/local/lib/python3.11/dist-packages (from onnxruntime>=1.14.1->chromadb) (5.29.4)\n",
      "Requirement already satisfied: sympy in /usr/local/lib/python3.11/dist-packages (from onnxruntime>=1.14.1->chromadb) (1.13.1)\n",
      "Requirement already satisfied: deprecated>=1.2.6 in /usr/local/lib/python3.11/dist-packages (from opentelemetry-api>=1.2.0->chromadb) (1.2.18)\n",
      "Requirement already satisfied: importlib-metadata<8.7.0,>=6.0 in /usr/local/lib/python3.11/dist-packages (from opentelemetry-api>=1.2.0->chromadb) (8.6.1)\n",
      "Requirement already satisfied: googleapis-common-protos~=1.52 in /usr/local/lib/python3.11/dist-packages (from opentelemetry-exporter-otlp-proto-grpc>=1.2.0->chromadb) (1.70.0)\n",
      "Collecting opentelemetry-exporter-otlp-proto-common==1.32.1 (from opentelemetry-exporter-otlp-proto-grpc>=1.2.0->chromadb)\n",
      "  Downloading opentelemetry_exporter_otlp_proto_common-1.32.1-py3-none-any.whl.metadata (1.9 kB)\n",
      "Collecting opentelemetry-proto==1.32.1 (from opentelemetry-exporter-otlp-proto-grpc>=1.2.0->chromadb)\n",
      "  Downloading opentelemetry_proto-1.32.1-py3-none-any.whl.metadata (2.4 kB)\n",
      "Collecting opentelemetry-instrumentation-asgi==0.53b1 (from opentelemetry-instrumentation-fastapi>=0.41b0->chromadb)\n",
      "  Downloading opentelemetry_instrumentation_asgi-0.53b1-py3-none-any.whl.metadata (2.1 kB)\n",
      "Collecting opentelemetry-instrumentation==0.53b1 (from opentelemetry-instrumentation-fastapi>=0.41b0->chromadb)\n",
      "  Downloading opentelemetry_instrumentation-0.53b1-py3-none-any.whl.metadata (6.8 kB)\n",
      "Requirement already satisfied: opentelemetry-semantic-conventions==0.53b1 in /usr/local/lib/python3.11/dist-packages (from opentelemetry-instrumentation-fastapi>=0.41b0->chromadb) (0.53b1)\n",
      "Collecting opentelemetry-util-http==0.53b1 (from opentelemetry-instrumentation-fastapi>=0.41b0->chromadb)\n",
      "  Downloading opentelemetry_util_http-0.53b1-py3-none-any.whl.metadata (2.6 kB)\n",
      "Requirement already satisfied: wrapt<2.0.0,>=1.0.0 in /usr/local/lib/python3.11/dist-packages (from opentelemetry-instrumentation==0.53b1->opentelemetry-instrumentation-fastapi>=0.41b0->chromadb) (1.17.2)\n",
      "Collecting asgiref~=3.0 (from opentelemetry-instrumentation-asgi==0.53b1->opentelemetry-instrumentation-fastapi>=0.41b0->chromadb)\n",
      "  Downloading asgiref-3.8.1-py3-none-any.whl.metadata (9.3 kB)\n",
      "Collecting backoff>=1.10.0 (from posthog>=2.4.0->chromadb)\n",
      "  Downloading backoff-2.2.1-py3-none-any.whl.metadata (14 kB)\n",
      "Requirement already satisfied: distro>=1.5.0 in /usr/local/lib/python3.11/dist-packages (from posthog>=2.4.0->chromadb) (1.9.0)\n",
      "Requirement already satisfied: annotated-types>=0.6.0 in /usr/local/lib/python3.11/dist-packages (from pydantic>=1.9->chromadb) (0.7.0)\n",
      "Requirement already satisfied: pydantic-core==2.33.1 in /usr/local/lib/python3.11/dist-packages (from pydantic>=1.9->chromadb) (2.33.1)\n",
      "Requirement already satisfied: typing-inspection>=0.4.0 in /usr/local/lib/python3.11/dist-packages (from pydantic>=1.9->chromadb) (0.4.0)\n",
      "Requirement already satisfied: markdown-it-py>=2.2.0 in /usr/local/lib/python3.11/dist-packages (from rich>=10.11.0->chromadb) (3.0.0)\n",
      "Requirement already satisfied: pygments<3.0.0,>=2.13.0 in /usr/local/lib/python3.11/dist-packages (from rich>=10.11.0->chromadb) (2.19.1)\n",
      "Requirement already satisfied: huggingface-hub<1.0,>=0.16.4 in /usr/local/lib/python3.11/dist-packages (from tokenizers>=0.13.2->chromadb) (0.30.2)\n",
      "Requirement already satisfied: click>=8.0.0 in /usr/local/lib/python3.11/dist-packages (from typer>=0.9.0->chromadb) (8.1.8)\n",
      "Requirement already satisfied: shellingham>=1.3.0 in /usr/local/lib/python3.11/dist-packages (from typer>=0.9.0->chromadb) (1.5.4)\n",
      "Collecting httptools>=0.6.3 (from uvicorn[standard]>=0.18.3->chromadb)\n",
      "  Downloading httptools-0.6.4-cp311-cp311-manylinux_2_5_x86_64.manylinux1_x86_64.manylinux_2_17_x86_64.manylinux2014_x86_64.whl.metadata (3.6 kB)\n",
      "Requirement already satisfied: python-dotenv>=0.13 in /usr/local/lib/python3.11/dist-packages (from uvicorn[standard]>=0.18.3->chromadb) (1.1.0)\n",
      "Collecting uvloop!=0.15.0,!=0.15.1,>=0.14.0 (from uvicorn[standard]>=0.18.3->chromadb)\n",
      "  Downloading uvloop-0.21.0-cp311-cp311-manylinux_2_17_x86_64.manylinux2014_x86_64.whl.metadata (4.9 kB)\n",
      "Collecting watchfiles>=0.13 (from uvicorn[standard]>=0.18.3->chromadb)\n",
      "  Downloading watchfiles-1.0.5-cp311-cp311-manylinux_2_17_x86_64.manylinux2014_x86_64.whl.metadata (4.9 kB)\n",
      "Requirement already satisfied: websockets>=10.4 in /usr/local/lib/python3.11/dist-packages (from uvicorn[standard]>=0.18.3->chromadb) (15.0.1)\n",
      "Requirement already satisfied: cachetools<6.0,>=2.0.0 in /usr/local/lib/python3.11/dist-packages (from google-auth>=1.0.1->kubernetes>=28.1.0->chromadb) (5.5.2)\n",
      "Requirement already satisfied: pyasn1-modules>=0.2.1 in /usr/local/lib/python3.11/dist-packages (from google-auth>=1.0.1->kubernetes>=28.1.0->chromadb) (0.4.2)\n",
      "Requirement already satisfied: rsa<5,>=3.1.4 in /usr/local/lib/python3.11/dist-packages (from google-auth>=1.0.1->kubernetes>=28.1.0->chromadb) (4.9.1)\n",
      "Requirement already satisfied: filelock in /usr/local/lib/python3.11/dist-packages (from huggingface-hub<1.0,>=0.16.4->tokenizers>=0.13.2->chromadb) (3.18.0)\n",
      "Requirement already satisfied: fsspec>=2023.5.0 in /usr/local/lib/python3.11/dist-packages (from huggingface-hub<1.0,>=0.16.4->tokenizers>=0.13.2->chromadb) (2025.3.2)\n",
      "Requirement already satisfied: zipp>=3.20 in /usr/local/lib/python3.11/dist-packages (from importlib-metadata<8.7.0,>=6.0->opentelemetry-api>=1.2.0->chromadb) (3.21.0)\n",
      "Requirement already satisfied: mdurl~=0.1 in /usr/local/lib/python3.11/dist-packages (from markdown-it-py>=2.2.0->rich>=10.11.0->chromadb) (0.1.2)\n",
      "Requirement already satisfied: charset-normalizer<4,>=2 in /usr/local/lib/python3.11/dist-packages (from requests->kubernetes>=28.1.0->chromadb) (3.4.1)\n",
      "Requirement already satisfied: sniffio>=1.1 in /usr/local/lib/python3.11/dist-packages (from anyio->httpx>=0.27.0->chromadb) (1.3.1)\n",
      "Collecting humanfriendly>=9.1 (from coloredlogs->onnxruntime>=1.14.1->chromadb)\n",
      "  Downloading humanfriendly-10.0-py2.py3-none-any.whl.metadata (9.2 kB)\n",
      "Requirement already satisfied: mpmath<1.4,>=1.1.0 in /usr/local/lib/python3.11/dist-packages (from sympy->onnxruntime>=1.14.1->chromadb) (1.3.0)\n",
      "Requirement already satisfied: pyasn1<0.7.0,>=0.6.1 in /usr/local/lib/python3.11/dist-packages (from pyasn1-modules>=0.2.1->google-auth>=1.0.1->kubernetes>=28.1.0->chromadb) (0.6.1)\n",
      "Downloading chromadb-1.0.7-cp39-abi3-manylinux_2_17_x86_64.manylinux2014_x86_64.whl (18.3 MB)\n",
      "\u001b[2K   \u001b[90m━━━━━━━━━━━━━━━━━━━━━━━━━━━━━━━━━━━━━━━━\u001b[0m \u001b[32m18.3/18.3 MB\u001b[0m \u001b[31m62.4 MB/s\u001b[0m eta \u001b[36m0:00:00\u001b[0m\n",
      "\u001b[?25hDownloading chroma_hnswlib-0.7.6-cp311-cp311-manylinux_2_17_x86_64.manylinux2014_x86_64.whl (2.4 MB)\n",
      "\u001b[2K   \u001b[90m━━━━━━━━━━━━━━━━━━━━━━━━━━━━━━━━━━━━━━━━\u001b[0m \u001b[32m2.4/2.4 MB\u001b[0m \u001b[31m85.8 MB/s\u001b[0m eta \u001b[36m0:00:00\u001b[0m\n",
      "\u001b[?25hDownloading fastapi-0.115.9-py3-none-any.whl (94 kB)\n",
      "\u001b[2K   \u001b[90m━━━━━━━━━━━━━━━━━━━━━━━━━━━━━━━━━━━━━━━━\u001b[0m \u001b[32m94.9/94.9 kB\u001b[0m \u001b[31m8.6 MB/s\u001b[0m eta \u001b[36m0:00:00\u001b[0m\n",
      "\u001b[?25hDownloading bcrypt-4.3.0-cp39-abi3-manylinux_2_34_x86_64.whl (284 kB)\n",
      "\u001b[2K   \u001b[90m━━━━━━━━━━━━━━━━━━━━━━━━━━━━━━━━━━━━━━━━\u001b[0m \u001b[32m284.2/284.2 kB\u001b[0m \u001b[31m23.6 MB/s\u001b[0m eta \u001b[36m0:00:00\u001b[0m\n",
      "\u001b[?25hDownloading build-1.2.2.post1-py3-none-any.whl (22 kB)\n",
      "Downloading kubernetes-32.0.1-py2.py3-none-any.whl (2.0 MB)\n",
      "\u001b[2K   \u001b[90m━━━━━━━━━━━━━━━━━━━━━━━━━━━━━━━━━━━━━━━━\u001b[0m \u001b[32m2.0/2.0 MB\u001b[0m \u001b[31m70.9 MB/s\u001b[0m eta \u001b[36m0:00:00\u001b[0m\n",
      "\u001b[?25hDownloading mmh3-5.1.0-cp311-cp311-manylinux_2_5_x86_64.manylinux1_x86_64.manylinux_2_17_x86_64.manylinux2014_x86_64.whl (101 kB)\n",
      "\u001b[2K   \u001b[90m━━━━━━━━━━━━━━━━━━━━━━━━━━━━━━━━━━━━━━━━\u001b[0m \u001b[32m101.6/101.6 kB\u001b[0m \u001b[31m8.5 MB/s\u001b[0m eta \u001b[36m0:00:00\u001b[0m\n",
      "\u001b[?25hDownloading onnxruntime-1.21.1-cp311-cp311-manylinux_2_27_x86_64.manylinux_2_28_x86_64.whl (16.0 MB)\n",
      "\u001b[2K   \u001b[90m━━━━━━━━━━━━━━━━━━━━━━━━━━━━━━━━━━━━━━━━\u001b[0m \u001b[32m16.0/16.0 MB\u001b[0m \u001b[31m103.6 MB/s\u001b[0m eta \u001b[36m0:00:00\u001b[0m\n",
      "\u001b[?25hDownloading opentelemetry_exporter_otlp_proto_grpc-1.32.1-py3-none-any.whl (18 kB)\n",
      "Downloading opentelemetry_exporter_otlp_proto_common-1.32.1-py3-none-any.whl (18 kB)\n",
      "Downloading opentelemetry_proto-1.32.1-py3-none-any.whl (55 kB)\n",
      "\u001b[2K   \u001b[90m━━━━━━━━━━━━━━━━━━━━━━━━━━━━━━━━━━━━━━━━\u001b[0m \u001b[32m55.9/55.9 kB\u001b[0m \u001b[31m5.1 MB/s\u001b[0m eta \u001b[36m0:00:00\u001b[0m\n",
      "\u001b[?25hDownloading opentelemetry_instrumentation_fastapi-0.53b1-py3-none-any.whl (12 kB)\n",
      "Downloading opentelemetry_instrumentation-0.53b1-py3-none-any.whl (30 kB)\n",
      "Downloading opentelemetry_instrumentation_asgi-0.53b1-py3-none-any.whl (16 kB)\n",
      "Downloading opentelemetry_util_http-0.53b1-py3-none-any.whl (7.3 kB)\n",
      "Downloading overrides-7.7.0-py3-none-any.whl (17 kB)\n",
      "Downloading posthog-4.0.1-py2.py3-none-any.whl (92 kB)\n",
      "\u001b[2K   \u001b[90m━━━━━━━━━━━━━━━━━━━━━━━━━━━━━━━━━━━━━━━━\u001b[0m \u001b[32m92.0/92.0 kB\u001b[0m \u001b[31m7.2 MB/s\u001b[0m eta \u001b[36m0:00:00\u001b[0m\n",
      "\u001b[?25hDownloading uvicorn-0.34.2-py3-none-any.whl (62 kB)\n",
      "\u001b[2K   \u001b[90m━━━━━━━━━━━━━━━━━━━━━━━━━━━━━━━━━━━━━━━━\u001b[0m \u001b[32m62.5/62.5 kB\u001b[0m \u001b[31m6.2 MB/s\u001b[0m eta \u001b[36m0:00:00\u001b[0m\n",
      "\u001b[?25hDownloading backoff-2.2.1-py3-none-any.whl (15 kB)\n",
      "Downloading durationpy-0.9-py3-none-any.whl (3.5 kB)\n",
      "Downloading httptools-0.6.4-cp311-cp311-manylinux_2_5_x86_64.manylinux1_x86_64.manylinux_2_17_x86_64.manylinux2014_x86_64.whl (459 kB)\n",
      "\u001b[2K   \u001b[90m━━━━━━━━━━━━━━━━━━━━━━━━━━━━━━━━━━━━━━━━\u001b[0m \u001b[32m459.8/459.8 kB\u001b[0m \u001b[31m26.6 MB/s\u001b[0m eta \u001b[36m0:00:00\u001b[0m\n",
      "\u001b[?25hDownloading starlette-0.45.3-py3-none-any.whl (71 kB)\n",
      "\u001b[2K   \u001b[90m━━━━━━━━━━━━━━━━━━━━━━━━━━━━━━━━━━━━━━━━\u001b[0m \u001b[32m71.5/71.5 kB\u001b[0m \u001b[31m5.7 MB/s\u001b[0m eta \u001b[36m0:00:00\u001b[0m\n",
      "\u001b[?25hDownloading uvloop-0.21.0-cp311-cp311-manylinux_2_17_x86_64.manylinux2014_x86_64.whl (4.0 MB)\n",
      "\u001b[2K   \u001b[90m━━━━━━━━━━━━━━━━━━━━━━━━━━━━━━━━━━━━━━━━\u001b[0m \u001b[32m4.0/4.0 MB\u001b[0m \u001b[31m99.0 MB/s\u001b[0m eta \u001b[36m0:00:00\u001b[0m\n",
      "\u001b[?25hDownloading watchfiles-1.0.5-cp311-cp311-manylinux_2_17_x86_64.manylinux2014_x86_64.whl (454 kB)\n",
      "\u001b[2K   \u001b[90m━━━━━━━━━━━━━━━━━━━━━━━━━━━━━━━━━━━━━━━━\u001b[0m \u001b[32m454.8/454.8 kB\u001b[0m \u001b[31m31.0 MB/s\u001b[0m eta \u001b[36m0:00:00\u001b[0m\n",
      "\u001b[?25hDownloading coloredlogs-15.0.1-py2.py3-none-any.whl (46 kB)\n",
      "\u001b[2K   \u001b[90m━━━━━━━━━━━━━━━━━━━━━━━━━━━━━━━━━━━━━━━━\u001b[0m \u001b[32m46.0/46.0 kB\u001b[0m \u001b[31m3.4 MB/s\u001b[0m eta \u001b[36m0:00:00\u001b[0m\n",
      "\u001b[?25hDownloading pyproject_hooks-1.2.0-py3-none-any.whl (10 kB)\n",
      "Downloading asgiref-3.8.1-py3-none-any.whl (23 kB)\n",
      "Downloading humanfriendly-10.0-py2.py3-none-any.whl (86 kB)\n",
      "\u001b[2K   \u001b[90m━━━━━━━━━━━━━━━━━━━━━━━━━━━━━━━━━━━━━━━━\u001b[0m \u001b[32m86.8/86.8 kB\u001b[0m \u001b[31m7.5 MB/s\u001b[0m eta \u001b[36m0:00:00\u001b[0m\n",
      "\u001b[?25hBuilding wheels for collected packages: pypika\n",
      "  Building wheel for pypika (pyproject.toml) ... \u001b[?25l\u001b[?25hdone\n",
      "  Created wheel for pypika: filename=pypika-0.48.9-py2.py3-none-any.whl size=53800 sha256=2ce262040dcce4c502685ed88a5c68b5515d25af1ae1c771cabe3ba9568f26aa\n",
      "  Stored in directory: /root/.cache/pip/wheels/a3/01/bd/4c40ceb9d5354160cb186dcc153360f4ab7eb23e2b24daf96d\n",
      "Successfully built pypika\n",
      "Installing collected packages: pypika, durationpy, uvloop, uvicorn, pyproject_hooks, overrides, opentelemetry-util-http, opentelemetry-proto, mmh3, humanfriendly, httptools, chroma-hnswlib, bcrypt, backoff, asgiref, watchfiles, starlette, posthog, opentelemetry-exporter-otlp-proto-common, coloredlogs, build, onnxruntime, kubernetes, fastapi, opentelemetry-instrumentation, opentelemetry-instrumentation-asgi, opentelemetry-exporter-otlp-proto-grpc, opentelemetry-instrumentation-fastapi, chromadb\n",
      "Successfully installed asgiref-3.8.1 backoff-2.2.1 bcrypt-4.3.0 build-1.2.2.post1 chroma-hnswlib-0.7.6 chromadb-1.0.7 coloredlogs-15.0.1 durationpy-0.9 fastapi-0.115.9 httptools-0.6.4 humanfriendly-10.0 kubernetes-32.0.1 mmh3-5.1.0 onnxruntime-1.21.1 opentelemetry-exporter-otlp-proto-common-1.32.1 opentelemetry-exporter-otlp-proto-grpc-1.32.1 opentelemetry-instrumentation-0.53b1 opentelemetry-instrumentation-asgi-0.53b1 opentelemetry-instrumentation-fastapi-0.53b1 opentelemetry-proto-1.32.1 opentelemetry-util-http-0.53b1 overrides-7.7.0 posthog-4.0.1 pypika-0.48.9 pyproject_hooks-1.2.0 starlette-0.45.3 uvicorn-0.34.2 uvloop-0.21.0 watchfiles-1.0.5\n"
     ]
    }
   ],
   "source": [
    "!pip install chromadb"
   ]
  },
  {
   "cell_type": "code",
   "execution_count": null,
   "metadata": {
    "id": "A3jKBbb_qy1j"
   },
   "outputs": [],
   "source": [
    "import chromadb\n",
    "chroma_client = chromadb.Client()\n",
    "\n",
    "collection = chroma_client.create_collection(name=\"collection3\")"
   ]
  },
  {
   "cell_type": "code",
   "execution_count": null,
   "metadata": {
    "colab": {
     "base_uri": "https://localhost:8080/"
    },
    "executionInfo": {
     "elapsed": 2713,
     "status": "ok",
     "timestamp": 1745940369806,
     "user": {
      "displayName": "張文鈿（ihower）",
      "userId": "16942569988483049654"
     },
     "user_tz": -480
    },
    "id": "eRwY3hVsJ75w",
    "outputId": "7b7bbb6b-cb91-41dc-bbb6-9ac1c148f4f7"
   },
   "outputs": [
    {
     "name": "stdout",
     "output_type": "stream",
     "text": [
      "Requirement already satisfied: tiktoken in /usr/local/lib/python3.11/dist-packages (0.9.0)\n",
      "Requirement already satisfied: regex>=2022.1.18 in /usr/local/lib/python3.11/dist-packages (from tiktoken) (2024.11.6)\n",
      "Requirement already satisfied: requests>=2.26.0 in /usr/local/lib/python3.11/dist-packages (from tiktoken) (2.32.3)\n",
      "Requirement already satisfied: charset-normalizer<4,>=2 in /usr/local/lib/python3.11/dist-packages (from requests>=2.26.0->tiktoken) (3.4.1)\n",
      "Requirement already satisfied: idna<4,>=2.5 in /usr/local/lib/python3.11/dist-packages (from requests>=2.26.0->tiktoken) (3.10)\n",
      "Requirement already satisfied: urllib3<3,>=1.21.1 in /usr/local/lib/python3.11/dist-packages (from requests>=2.26.0->tiktoken) (2.4.0)\n",
      "Requirement already satisfied: certifi>=2017.4.17 in /usr/local/lib/python3.11/dist-packages (from requests>=2.26.0->tiktoken) (2025.1.31)\n"
     ]
    }
   ],
   "source": [
    "!pip install tiktoken"
   ]
  },
  {
   "cell_type": "code",
   "execution_count": null,
   "metadata": {
    "colab": {
     "base_uri": "https://localhost:8080/"
    },
    "executionInfo": {
     "elapsed": 3257,
     "status": "ok",
     "timestamp": 1745940395316,
     "user": {
      "displayName": "張文鈿（ihower）",
      "userId": "16942569988483049654"
     },
     "user_tz": -480
    },
    "id": "J2BflwoQKCRL",
    "outputId": "caf1ba9f-e7b9-4469-a44f-b1db3a721a28"
   },
   "outputs": [
    {
     "name": "stdout",
     "output_type": "stream",
     "text": [
      "Requirement already satisfied: langchain_text_splitters in /usr/local/lib/python3.11/dist-packages (0.3.8)\n",
      "Requirement already satisfied: langchain-core<1.0.0,>=0.3.51 in /usr/local/lib/python3.11/dist-packages (from langchain_text_splitters) (0.3.56)\n",
      "Requirement already satisfied: langsmith<0.4,>=0.1.125 in /usr/local/lib/python3.11/dist-packages (from langchain-core<1.0.0,>=0.3.51->langchain_text_splitters) (0.3.34)\n",
      "Requirement already satisfied: tenacity!=8.4.0,<10.0.0,>=8.1.0 in /usr/local/lib/python3.11/dist-packages (from langchain-core<1.0.0,>=0.3.51->langchain_text_splitters) (9.1.2)\n",
      "Requirement already satisfied: jsonpatch<2.0,>=1.33 in /usr/local/lib/python3.11/dist-packages (from langchain-core<1.0.0,>=0.3.51->langchain_text_splitters) (1.33)\n",
      "Requirement already satisfied: PyYAML>=5.3 in /usr/local/lib/python3.11/dist-packages (from langchain-core<1.0.0,>=0.3.51->langchain_text_splitters) (6.0.2)\n",
      "Requirement already satisfied: packaging<25,>=23.2 in /usr/local/lib/python3.11/dist-packages (from langchain-core<1.0.0,>=0.3.51->langchain_text_splitters) (24.2)\n",
      "Requirement already satisfied: typing-extensions>=4.7 in /usr/local/lib/python3.11/dist-packages (from langchain-core<1.0.0,>=0.3.51->langchain_text_splitters) (4.13.2)\n",
      "Requirement already satisfied: pydantic<3.0.0,>=2.5.2 in /usr/local/lib/python3.11/dist-packages (from langchain-core<1.0.0,>=0.3.51->langchain_text_splitters) (2.11.3)\n",
      "Requirement already satisfied: jsonpointer>=1.9 in /usr/local/lib/python3.11/dist-packages (from jsonpatch<2.0,>=1.33->langchain-core<1.0.0,>=0.3.51->langchain_text_splitters) (3.0.0)\n",
      "Requirement already satisfied: httpx<1,>=0.23.0 in /usr/local/lib/python3.11/dist-packages (from langsmith<0.4,>=0.1.125->langchain-core<1.0.0,>=0.3.51->langchain_text_splitters) (0.28.1)\n",
      "Requirement already satisfied: orjson<4.0.0,>=3.9.14 in /usr/local/lib/python3.11/dist-packages (from langsmith<0.4,>=0.1.125->langchain-core<1.0.0,>=0.3.51->langchain_text_splitters) (3.10.16)\n",
      "Requirement already satisfied: requests<3,>=2 in /usr/local/lib/python3.11/dist-packages (from langsmith<0.4,>=0.1.125->langchain-core<1.0.0,>=0.3.51->langchain_text_splitters) (2.32.3)\n",
      "Requirement already satisfied: requests-toolbelt<2.0.0,>=1.0.0 in /usr/local/lib/python3.11/dist-packages (from langsmith<0.4,>=0.1.125->langchain-core<1.0.0,>=0.3.51->langchain_text_splitters) (1.0.0)\n",
      "Requirement already satisfied: zstandard<0.24.0,>=0.23.0 in /usr/local/lib/python3.11/dist-packages (from langsmith<0.4,>=0.1.125->langchain-core<1.0.0,>=0.3.51->langchain_text_splitters) (0.23.0)\n",
      "Requirement already satisfied: annotated-types>=0.6.0 in /usr/local/lib/python3.11/dist-packages (from pydantic<3.0.0,>=2.5.2->langchain-core<1.0.0,>=0.3.51->langchain_text_splitters) (0.7.0)\n",
      "Requirement already satisfied: pydantic-core==2.33.1 in /usr/local/lib/python3.11/dist-packages (from pydantic<3.0.0,>=2.5.2->langchain-core<1.0.0,>=0.3.51->langchain_text_splitters) (2.33.1)\n",
      "Requirement already satisfied: typing-inspection>=0.4.0 in /usr/local/lib/python3.11/dist-packages (from pydantic<3.0.0,>=2.5.2->langchain-core<1.0.0,>=0.3.51->langchain_text_splitters) (0.4.0)\n",
      "Requirement already satisfied: anyio in /usr/local/lib/python3.11/dist-packages (from httpx<1,>=0.23.0->langsmith<0.4,>=0.1.125->langchain-core<1.0.0,>=0.3.51->langchain_text_splitters) (4.9.0)\n",
      "Requirement already satisfied: certifi in /usr/local/lib/python3.11/dist-packages (from httpx<1,>=0.23.0->langsmith<0.4,>=0.1.125->langchain-core<1.0.0,>=0.3.51->langchain_text_splitters) (2025.1.31)\n",
      "Requirement already satisfied: httpcore==1.* in /usr/local/lib/python3.11/dist-packages (from httpx<1,>=0.23.0->langsmith<0.4,>=0.1.125->langchain-core<1.0.0,>=0.3.51->langchain_text_splitters) (1.0.9)\n",
      "Requirement already satisfied: idna in /usr/local/lib/python3.11/dist-packages (from httpx<1,>=0.23.0->langsmith<0.4,>=0.1.125->langchain-core<1.0.0,>=0.3.51->langchain_text_splitters) (3.10)\n",
      "Requirement already satisfied: h11>=0.16 in /usr/local/lib/python3.11/dist-packages (from httpcore==1.*->httpx<1,>=0.23.0->langsmith<0.4,>=0.1.125->langchain-core<1.0.0,>=0.3.51->langchain_text_splitters) (0.16.0)\n",
      "Requirement already satisfied: charset-normalizer<4,>=2 in /usr/local/lib/python3.11/dist-packages (from requests<3,>=2->langsmith<0.4,>=0.1.125->langchain-core<1.0.0,>=0.3.51->langchain_text_splitters) (3.4.1)\n",
      "Requirement already satisfied: urllib3<3,>=1.21.1 in /usr/local/lib/python3.11/dist-packages (from requests<3,>=2->langsmith<0.4,>=0.1.125->langchain-core<1.0.0,>=0.3.51->langchain_text_splitters) (2.4.0)\n",
      "Requirement already satisfied: sniffio>=1.1 in /usr/local/lib/python3.11/dist-packages (from anyio->httpx<1,>=0.23.0->langsmith<0.4,>=0.1.125->langchain-core<1.0.0,>=0.3.51->langchain_text_splitters) (1.3.1)\n"
     ]
    }
   ],
   "source": [
    "!pip install langchain_text_splitters"
   ]
  },
  {
   "cell_type": "code",
   "execution_count": null,
   "metadata": {
    "id": "epGCyYfqKCef"
   },
   "outputs": [],
   "source": [
    "from langchain_text_splitters import RecursiveCharacterTextSplitter\n",
    "import tiktoken\n",
    "\n",
    "tokenizer = tiktoken.get_encoding(\"o200k_base\") # gpt-4o 是 o200k_base，之前版本 gpt-4-turbo 和 gpt-3.5-turbo 是 cl100k_base\n",
    "\n",
    "def length_function(text: str):\n",
    "    return len(tokenizer.encode(text))\n",
    "\n",
    "text_splitter = RecursiveCharacterTextSplitter(length_function=length_function, chunk_size=800, chunk_overlap=200, separators=[\n",
    "    \"\\n\\n\",\n",
    "    \"\\n\",\n",
    "    \" \",\n",
    "    \".\",\n",
    "    \",\",\n",
    "    \"\\u200b\",  # Zero-width space\n",
    "    \"\\uff0c\",  # Fullwidth comma ，\n",
    "    \"\\u3001\",  # Ideographic comma 、\n",
    "    \"\\uff0e\",  # Fullwidth full stop ．\n",
    "    \"\\u3002\",  # Ideographic full stop 。\n",
    "    \"\",\n",
    "])"
   ]
  },
  {
   "cell_type": "code",
   "execution_count": null,
   "metadata": {
    "id": "wSW3LjF1KP9O"
   },
   "outputs": [],
   "source": [
    "def get_embeddings(text):\n",
    "  response = client.embeddings.create(\n",
    "      input=text,\n",
    "      model=\"text-embedding-3-small\"\n",
    "  )\n",
    "\n",
    "  return response.data[0].embedding"
   ]
  },
  {
   "cell_type": "code",
   "execution_count": null,
   "metadata": {
    "id": "4-l78FFDKJSb"
   },
   "outputs": [],
   "source": [
    "for idx,page in enumerate(pages):\n",
    "  chunks = text_splitter.split_text(page.get_text())\n",
    "\n",
    "  collection.add(\n",
    "    documents = chunks,\n",
    "    embeddings = [ get_embeddings(chunk) for chunk in chunks ],\n",
    "    ids=[f\"doc-1-page-{idx}-chunk-{x}\" for x in range( len(chunks) ) ]\n",
    "  )"
   ]
  },
  {
   "cell_type": "code",
   "execution_count": null,
   "metadata": {
    "id": "OTwded8EKMCB"
   },
   "outputs": [],
   "source": [
    "from typing import List\n",
    "from pydantic import Field, BaseModel\n",
    "\n",
    "class QueryResult(BaseModel):\n",
    "    relevant_quotes: List[str]\n",
    "    answer: str\n",
    "    following_questions: List[str]\n",
    "\n",
    "@traced\n",
    "def ask_with_rag(question):\n",
    "  results = collection.query(\n",
    "      query_embeddings = get_embeddings(question),\n",
    "      # 可有 where 參數可針對上述的 metadatas 做過濾，例如日期、頁數等\n",
    "      n_results=10\n",
    "  )\n",
    "\n",
    "  documents = results['documents'][0]\n",
    "  context = '\\n'.join('* ' + doc for doc in documents)\n",
    "\n",
    "  user_prompt = f\"\"\"\n",
    "  I will provide you with a document and then ask you a question about it. Please respond following these steps:\n",
    "\n",
    "  <document>\n",
    "  {context}\n",
    "  </document>\n",
    "\n",
    "  Question: {question}\n",
    "\n",
    "  Please answer in the following format:\n",
    "\n",
    "  1. First, identify the most relevant quotes from the document that help answer the question and list them. Each quote should be relatively short.\n",
    "    If there are no relevant quotes, write \"No relevant quotes\".\n",
    "\n",
    "  2. Then, answer the question using facts from these quotes without directly referencing the content in your answer.\n",
    "\n",
    "  3. Finally, provide 3 related follow-up questions based on the original question and document content that would help explore the topic further.\n",
    "\n",
    "  If the document does not contain sufficient information to answer the question, please state this in the answer field, but still provide any relevant quotes (if available) and possible follow-up questions.\n",
    "  Please respond in Traditional Chinese (Taiwan).\n",
    "  \"\"\"\n",
    "\n",
    "  completion = client.beta.chat.completions.parse(\n",
    "      model=\"gpt-4.1-mini\",\n",
    "      messages=[\n",
    "          {\"role\": \"user\", \"content\": user_prompt},\n",
    "      ],\n",
    "      response_format=QueryResult\n",
    "  )\n",
    "\n",
    "  parsed_result = completion.choices[0].message.parsed\n",
    "  return parsed_result.answer"
   ]
  },
  {
   "cell_type": "code",
   "execution_count": null,
   "metadata": {
    "colab": {
     "base_uri": "https://localhost:8080/"
    },
    "executionInfo": {
     "elapsed": 96,
     "status": "ok",
     "timestamp": 1745940893024,
     "user": {
      "displayName": "張文鈿（ihower）",
      "userId": "16942569988483049654"
     },
     "user_tz": -480
    },
    "id": "wmwuQ1_wKYL2",
    "outputId": "a393f74b-f935-4f8e-ab8c-3d041c580bfd"
   },
   "outputs": [
    {
     "name": "stderr",
     "output_type": "stream",
     "text": [
      "Experiment Naive RAG-addfce82 is running at https://www.braintrust.dev/app/ihower/p/Course-202504/experiments/Naive%20RAG-addfce82\n"
     ]
    },
    {
     "data": {
      "text/plain": [
       "<Task pending name='Task-657' coro=<_EvalCommon.<locals>.run_to_completion() running at /usr/local/lib/python3.11/dist-packages/braintrust/framework.py:656>>"
      ]
     },
     "execution_count": 125,
     "metadata": {},
     "output_type": "execute_result"
    }
   ],
   "source": [
    "import autoevals\n",
    "\n",
    "Eval(\n",
    "    name=\"Course-202504\",\n",
    "    experiment_name=\"Naive RAG\",\n",
    "    data=eval_dataset,\n",
    "    task=ask_with_rag,\n",
    "    scores=[autoevals.Factuality(model=\"gpt-4.1\")],\n",
    ")"
   ]
  },
  {
   "cell_type": "markdown",
   "metadata": {
    "id": "tvY8TqHKMiBA"
   },
   "source": [
    "## 使用 Ragas 指標來做評估\n",
    "\n",
    "https://docs.ragas.io/en/stable/concepts/metrics/available_metrics/\n",
    "\n",
    "參考自 https://www.braintrust.dev/docs/cookbook/recipes/SimpleRagas"
   ]
  },
  {
   "cell_type": "code",
   "execution_count": null,
   "metadata": {
    "id": "_cvjpppiKymw"
   },
   "outputs": [],
   "source": [
    "@traced\n",
    "def fetch_top_k_relevant_sections(question):\n",
    "  results = collection.query(\n",
    "      query_embeddings = get_embeddings(question),\n",
    "      # 可有 where 參數可針對上述的 metadatas 做過濾，例如日期、頁數等\n",
    "      n_results=10\n",
    "  )\n",
    "\n",
    "  documents = results['documents'][0]\n",
    "  return documents\n",
    "\n",
    "@traced\n",
    "def generate_answer_from_docs(question, retrieved_content):\n",
    "  context = '\\n'.join('* ' + doc for doc in retrieved_content)\n",
    "\n",
    "  user_prompt = f\"\"\"\n",
    "  I will provide you with a document and then ask you a question about it. Please respond following these steps:\n",
    "\n",
    "  <document>\n",
    "  {context}\n",
    "  </document>\n",
    "\n",
    "  Question: {question}\n",
    "\n",
    "  Please answer in the following format:\n",
    "\n",
    "  1. First, identify the most relevant quotes from the document that help answer the question and list them. Each quote should be relatively short.\n",
    "    If there are no relevant quotes, write \"No relevant quotes\".\n",
    "\n",
    "  2. Then, answer the question using facts from these quotes without directly referencing the content in your answer.\n",
    "\n",
    "  3. Finally, provide 3 related follow-up questions based on the original question and document content that would help explore the topic further.\n",
    "\n",
    "  If the document does not contain sufficient information to answer the question, please state this in the answer field, but still provide any relevant quotes (if available) and possible follow-up questions.\n",
    "  Please respond in Traditional Chinese (Taiwan).\n",
    "  \"\"\"\n",
    "\n",
    "  completion = client.beta.chat.completions.parse(\n",
    "      model=\"gpt-4.1-mini\",\n",
    "      messages=[\n",
    "          {\"role\": \"user\", \"content\": user_prompt},\n",
    "      ],\n",
    "      response_format=QueryResult\n",
    "  )\n",
    "\n",
    "  parsed_result = completion.choices[0].message.parsed\n",
    "  return parsed_result\n",
    "\n",
    "@traced\n",
    "def generate_answer_e2e(question):\n",
    "  retrieved_content = fetch_top_k_relevant_sections(question)\n",
    "  result = generate_answer_from_docs(question, retrieved_content)\n",
    "\n",
    "  return { \"answer\": result.answer, \"retrieved_docs\": retrieved_content }"
   ]
  },
  {
   "cell_type": "code",
   "execution_count": null,
   "metadata": {
    "colab": {
     "base_uri": "https://localhost:8080/",
     "height": 503,
     "referenced_widgets": [
      "4b0b5ca9144e41b9995c8b9da371482b",
      "1aa49d6ef501404da5a232956d0a5f99",
      "fb81042b54e0478f92485f9e1d106455",
      "3ee2a995bdc64733966005e97e9a529e",
      "b6b4805917aa422289971b398e085b4d",
      "8e112fd580ce4b2f8fe39f495bd228c2",
      "775bc6de64654e9a98711e68a4175f27",
      "45234fba077b41699f1136faef5439ae",
      "204e960c689a47f9b46305b694483f4d",
      "482993413b9e4051abf5d2bf89d4bcf6",
      "ceacf60d07064fe28bcc72042f9c6ee3"
     ]
    },
    "executionInfo": {
     "elapsed": 112296,
     "status": "ok",
     "timestamp": 1745942587979,
     "user": {
      "displayName": "張文鈿（ihower）",
      "userId": "16942569988483049654"
     },
     "user_tz": -480
    },
    "id": "wadAU_mLM4Tq",
    "outputId": "577156b5-9783-4ca6-ecab-05986145dec5"
   },
   "outputs": [
    {
     "name": "stderr",
     "output_type": "stream",
     "text": [
      "Experiment Ragas is running at https://www.braintrust.dev/app/ihower/p/Course-202504/experiments/Ragas\n",
      "Course-202504 [experiment_name=Ragas] (data): 32it [00:00, 24092.21it/s]\n"
     ]
    },
    {
     "data": {
      "application/vnd.jupyter.widget-view+json": {
       "model_id": "4b0b5ca9144e41b9995c8b9da371482b",
       "version_major": 2,
       "version_minor": 0
      },
      "text/plain": [
       "Course-202504 [experiment_name=Ragas] (tasks):   0%|          | 0/32 [00:00<?, ?it/s]"
      ]
     },
     "metadata": {},
     "output_type": "display_data"
    },
    {
     "name": "stderr",
     "output_type": "stream",
     "text": [
      "Found exceptions for the following scorers: faithfulness [KeyError('verdict')]\n",
      "Found exceptions for the following scorers: faithfulness [KeyError('verdict')]\n",
      "Found exceptions for the following scorers: context_recall [TypeError(\"unsupported operand type(s) for +: 'int' and 'NoneType'\")]\n",
      "Found exceptions for the following scorers: faithfulness [KeyError('verdict')]\n",
      "Found exceptions for the following scorers: faithfulness [KeyError('verdict')]\n"
     ]
    },
    {
     "name": "stdout",
     "output_type": "stream",
     "text": [
      "\n",
      "=========================SUMMARY=========================\n",
      "Ragas compared to Naive RAG-addfce82:\n",
      "59.56% 'AnswerCorrectness' score\n",
      "100.00% 'ContextPrecision'  score\n",
      "97.31% 'ContextRecall'     score\n",
      "84.43% 'Faithfulness'      score\n",
      "\n",
      "1745942477.20s start\n",
      "1745942541.03s end\n",
      "55.08s (-12293.44%) 'duration'         \t(32 improvements, 0 regressions)\n",
      "3.08s (-52.22%) 'llm_duration'     \t(23 improvements, 9 regressions)\n",
      "5646.81tok (-) 'prompt_tokens'    \t(0 improvements, 0 regressions)\n",
      "407.78tok (+1003.12%) 'completion_tokens'\t(15 improvements, 16 regressions)\n",
      "6054.59tok (+1003.12%) 'total_tokens'     \t(15 improvements, 16 regressions)\n",
      "0.00$ (+00.00%) 'estimated_cost'   \t(8 improvements, 10 regressions)\n",
      "\n",
      "See results for Ragas at https://www.braintrust.dev/app/ihower/p/Course-202504/experiments/Ragas\n"
     ]
    }
   ],
   "source": [
    "from braintrust import EvalAsync\n",
    "\n",
    "from autoevals import AnswerCorrectness, ContextRecall, ContextPrecision, Faithfulness\n",
    "\n",
    "# Wrap ContextRecall() to propagate along the \"answer\" and \"context\" values separately\n",
    "async def context_recall(output, **kwargs):\n",
    "    return await ContextRecall(model=\"gpt-4.1\").eval_async(\n",
    "        output=output[\"answer\"], context=output[\"retrieved_docs\"], **kwargs\n",
    "    )\n",
    "\n",
    "async def context_precision(output, **kwargs):\n",
    "    return await ContextPrecision(model=\"gpt-4.1\").eval_async(\n",
    "        output=output[\"answer\"], context=output[\"retrieved_docs\"], **kwargs\n",
    "    )\n",
    "\n",
    "async def faithfulness(output, **kwargs):\n",
    "    return await Faithfulness(model=\"gpt-4.1\").eval_async(\n",
    "        output=output[\"answer\"], context=output[\"retrieved_docs\"], **kwargs\n",
    "    )\n",
    "\n",
    "async def answer_correctness(output, **kwargs):\n",
    "    return await AnswerCorrectness(model=\"gpt-4.1\").eval_async(output=output[\"answer\"], **kwargs)\n",
    "\n",
    "eval_result = await EvalAsync(\n",
    "    name=\"Course-202504\",\n",
    "    experiment_name=\"Ragas\",\n",
    "    data=eval_dataset,\n",
    "    task=generate_answer_e2e,\n",
    "    scores=[context_recall, context_precision, faithfulness, answer_correctness],\n",
    "    metadata=dict(model='gpt-4.1-mini', top_k=10),\n",
    ")"
   ]
  },
  {
   "cell_type": "code",
   "execution_count": null,
   "metadata": {
    "id": "g3-9nwULNrMp"
   },
   "outputs": [],
   "source": []
  }
 ],
 "metadata": {
  "colab": {
   "provenance": []
  },
  "kernelspec": {
   "display_name": "Python 3",
   "name": "python3"
  },
  "language_info": {
   "name": "python"
  },
  "widgets": {
   "application/vnd.jupyter.widget-state+json": {
    "1aa49d6ef501404da5a232956d0a5f99": {
     "model_module": "@jupyter-widgets/controls",
     "model_module_version": "1.5.0",
     "model_name": "HTMLModel",
     "state": {
      "_dom_classes": [],
      "_model_module": "@jupyter-widgets/controls",
      "_model_module_version": "1.5.0",
      "_model_name": "HTMLModel",
      "_view_count": null,
      "_view_module": "@jupyter-widgets/controls",
      "_view_module_version": "1.5.0",
      "_view_name": "HTMLView",
      "description": "",
      "description_tooltip": null,
      "layout": "IPY_MODEL_8e112fd580ce4b2f8fe39f495bd228c2",
      "placeholder": "​",
      "style": "IPY_MODEL_775bc6de64654e9a98711e68a4175f27",
      "value": "Course-202504 [experiment_name=Ragas] (tasks): 100%"
     }
    },
    "204e960c689a47f9b46305b694483f4d": {
     "model_module": "@jupyter-widgets/controls",
     "model_module_version": "1.5.0",
     "model_name": "ProgressStyleModel",
     "state": {
      "_model_module": "@jupyter-widgets/controls",
      "_model_module_version": "1.5.0",
      "_model_name": "ProgressStyleModel",
      "_view_count": null,
      "_view_module": "@jupyter-widgets/base",
      "_view_module_version": "1.2.0",
      "_view_name": "StyleView",
      "bar_color": null,
      "description_width": ""
     }
    },
    "3ee2a995bdc64733966005e97e9a529e": {
     "model_module": "@jupyter-widgets/controls",
     "model_module_version": "1.5.0",
     "model_name": "HTMLModel",
     "state": {
      "_dom_classes": [],
      "_model_module": "@jupyter-widgets/controls",
      "_model_module_version": "1.5.0",
      "_model_name": "HTMLModel",
      "_view_count": null,
      "_view_module": "@jupyter-widgets/controls",
      "_view_module_version": "1.5.0",
      "_view_name": "HTMLView",
      "description": "",
      "description_tooltip": null,
      "layout": "IPY_MODEL_482993413b9e4051abf5d2bf89d4bcf6",
      "placeholder": "​",
      "style": "IPY_MODEL_ceacf60d07064fe28bcc72042f9c6ee3",
      "value": " 32/32 [01:50&lt;00:00,  2.26s/it]"
     }
    },
    "45234fba077b41699f1136faef5439ae": {
     "model_module": "@jupyter-widgets/base",
     "model_module_version": "1.2.0",
     "model_name": "LayoutModel",
     "state": {
      "_model_module": "@jupyter-widgets/base",
      "_model_module_version": "1.2.0",
      "_model_name": "LayoutModel",
      "_view_count": null,
      "_view_module": "@jupyter-widgets/base",
      "_view_module_version": "1.2.0",
      "_view_name": "LayoutView",
      "align_content": null,
      "align_items": null,
      "align_self": null,
      "border": null,
      "bottom": null,
      "display": null,
      "flex": null,
      "flex_flow": null,
      "grid_area": null,
      "grid_auto_columns": null,
      "grid_auto_flow": null,
      "grid_auto_rows": null,
      "grid_column": null,
      "grid_gap": null,
      "grid_row": null,
      "grid_template_areas": null,
      "grid_template_columns": null,
      "grid_template_rows": null,
      "height": null,
      "justify_content": null,
      "justify_items": null,
      "left": null,
      "margin": null,
      "max_height": null,
      "max_width": null,
      "min_height": null,
      "min_width": null,
      "object_fit": null,
      "object_position": null,
      "order": null,
      "overflow": null,
      "overflow_x": null,
      "overflow_y": null,
      "padding": null,
      "right": null,
      "top": null,
      "visibility": null,
      "width": null
     }
    },
    "482993413b9e4051abf5d2bf89d4bcf6": {
     "model_module": "@jupyter-widgets/base",
     "model_module_version": "1.2.0",
     "model_name": "LayoutModel",
     "state": {
      "_model_module": "@jupyter-widgets/base",
      "_model_module_version": "1.2.0",
      "_model_name": "LayoutModel",
      "_view_count": null,
      "_view_module": "@jupyter-widgets/base",
      "_view_module_version": "1.2.0",
      "_view_name": "LayoutView",
      "align_content": null,
      "align_items": null,
      "align_self": null,
      "border": null,
      "bottom": null,
      "display": null,
      "flex": null,
      "flex_flow": null,
      "grid_area": null,
      "grid_auto_columns": null,
      "grid_auto_flow": null,
      "grid_auto_rows": null,
      "grid_column": null,
      "grid_gap": null,
      "grid_row": null,
      "grid_template_areas": null,
      "grid_template_columns": null,
      "grid_template_rows": null,
      "height": null,
      "justify_content": null,
      "justify_items": null,
      "left": null,
      "margin": null,
      "max_height": null,
      "max_width": null,
      "min_height": null,
      "min_width": null,
      "object_fit": null,
      "object_position": null,
      "order": null,
      "overflow": null,
      "overflow_x": null,
      "overflow_y": null,
      "padding": null,
      "right": null,
      "top": null,
      "visibility": null,
      "width": null
     }
    },
    "4b0b5ca9144e41b9995c8b9da371482b": {
     "model_module": "@jupyter-widgets/controls",
     "model_module_version": "1.5.0",
     "model_name": "HBoxModel",
     "state": {
      "_dom_classes": [],
      "_model_module": "@jupyter-widgets/controls",
      "_model_module_version": "1.5.0",
      "_model_name": "HBoxModel",
      "_view_count": null,
      "_view_module": "@jupyter-widgets/controls",
      "_view_module_version": "1.5.0",
      "_view_name": "HBoxView",
      "box_style": "",
      "children": [
       "IPY_MODEL_1aa49d6ef501404da5a232956d0a5f99",
       "IPY_MODEL_fb81042b54e0478f92485f9e1d106455",
       "IPY_MODEL_3ee2a995bdc64733966005e97e9a529e"
      ],
      "layout": "IPY_MODEL_b6b4805917aa422289971b398e085b4d"
     }
    },
    "775bc6de64654e9a98711e68a4175f27": {
     "model_module": "@jupyter-widgets/controls",
     "model_module_version": "1.5.0",
     "model_name": "DescriptionStyleModel",
     "state": {
      "_model_module": "@jupyter-widgets/controls",
      "_model_module_version": "1.5.0",
      "_model_name": "DescriptionStyleModel",
      "_view_count": null,
      "_view_module": "@jupyter-widgets/base",
      "_view_module_version": "1.2.0",
      "_view_name": "StyleView",
      "description_width": ""
     }
    },
    "8e112fd580ce4b2f8fe39f495bd228c2": {
     "model_module": "@jupyter-widgets/base",
     "model_module_version": "1.2.0",
     "model_name": "LayoutModel",
     "state": {
      "_model_module": "@jupyter-widgets/base",
      "_model_module_version": "1.2.0",
      "_model_name": "LayoutModel",
      "_view_count": null,
      "_view_module": "@jupyter-widgets/base",
      "_view_module_version": "1.2.0",
      "_view_name": "LayoutView",
      "align_content": null,
      "align_items": null,
      "align_self": null,
      "border": null,
      "bottom": null,
      "display": null,
      "flex": null,
      "flex_flow": null,
      "grid_area": null,
      "grid_auto_columns": null,
      "grid_auto_flow": null,
      "grid_auto_rows": null,
      "grid_column": null,
      "grid_gap": null,
      "grid_row": null,
      "grid_template_areas": null,
      "grid_template_columns": null,
      "grid_template_rows": null,
      "height": null,
      "justify_content": null,
      "justify_items": null,
      "left": null,
      "margin": null,
      "max_height": null,
      "max_width": null,
      "min_height": null,
      "min_width": null,
      "object_fit": null,
      "object_position": null,
      "order": null,
      "overflow": null,
      "overflow_x": null,
      "overflow_y": null,
      "padding": null,
      "right": null,
      "top": null,
      "visibility": null,
      "width": null
     }
    },
    "b6b4805917aa422289971b398e085b4d": {
     "model_module": "@jupyter-widgets/base",
     "model_module_version": "1.2.0",
     "model_name": "LayoutModel",
     "state": {
      "_model_module": "@jupyter-widgets/base",
      "_model_module_version": "1.2.0",
      "_model_name": "LayoutModel",
      "_view_count": null,
      "_view_module": "@jupyter-widgets/base",
      "_view_module_version": "1.2.0",
      "_view_name": "LayoutView",
      "align_content": null,
      "align_items": null,
      "align_self": null,
      "border": null,
      "bottom": null,
      "display": null,
      "flex": null,
      "flex_flow": null,
      "grid_area": null,
      "grid_auto_columns": null,
      "grid_auto_flow": null,
      "grid_auto_rows": null,
      "grid_column": null,
      "grid_gap": null,
      "grid_row": null,
      "grid_template_areas": null,
      "grid_template_columns": null,
      "grid_template_rows": null,
      "height": null,
      "justify_content": null,
      "justify_items": null,
      "left": null,
      "margin": null,
      "max_height": null,
      "max_width": null,
      "min_height": null,
      "min_width": null,
      "object_fit": null,
      "object_position": null,
      "order": null,
      "overflow": null,
      "overflow_x": null,
      "overflow_y": null,
      "padding": null,
      "right": null,
      "top": null,
      "visibility": null,
      "width": null
     }
    },
    "ceacf60d07064fe28bcc72042f9c6ee3": {
     "model_module": "@jupyter-widgets/controls",
     "model_module_version": "1.5.0",
     "model_name": "DescriptionStyleModel",
     "state": {
      "_model_module": "@jupyter-widgets/controls",
      "_model_module_version": "1.5.0",
      "_model_name": "DescriptionStyleModel",
      "_view_count": null,
      "_view_module": "@jupyter-widgets/base",
      "_view_module_version": "1.2.0",
      "_view_name": "StyleView",
      "description_width": ""
     }
    },
    "fb81042b54e0478f92485f9e1d106455": {
     "model_module": "@jupyter-widgets/controls",
     "model_module_version": "1.5.0",
     "model_name": "FloatProgressModel",
     "state": {
      "_dom_classes": [],
      "_model_module": "@jupyter-widgets/controls",
      "_model_module_version": "1.5.0",
      "_model_name": "FloatProgressModel",
      "_view_count": null,
      "_view_module": "@jupyter-widgets/controls",
      "_view_module_version": "1.5.0",
      "_view_name": "ProgressView",
      "bar_style": "success",
      "description": "",
      "description_tooltip": null,
      "layout": "IPY_MODEL_45234fba077b41699f1136faef5439ae",
      "max": 32,
      "min": 0,
      "orientation": "horizontal",
      "style": "IPY_MODEL_204e960c689a47f9b46305b694483f4d",
      "value": 32
     }
    }
   }
  }
 },
 "nbformat": 4,
 "nbformat_minor": 0
}
